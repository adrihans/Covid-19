{
 "cells": [
  {
   "cell_type": "markdown",
   "metadata": {},
   "source": [
    "# Notebook de test"
   ]
  },
  {
   "cell_type": "markdown",
   "metadata": {},
   "source": [
    "Premiers essais\n",
    "\n",
    "**Using that for preprocessing data:**\n",
    "https://allenai.github.io/scispacy/\n",
    "\n",
    "Very good medium article : \n",
    "\n",
    "https://medium.com/@adriensieg/text-similarities-da019229c894\n",
    "\n",
    "**To DO**\n",
    "- Lemmatization\n",
    "- STOP-WORDS\n",
    "- TF-IDF\n",
    "- t-SNE ? \n",
    "- Visualizing data\n",
    "\n",
    "- Gérer les '-PRON-'\n",
    "\n",
    "\n",
    "Information retrieval : https://medium.com/@shubhamagarwal328/information-retrieval-in-natural-language-processing-part-1-96c9a62fdb5f\n",
    "\n",
    "Information extraction : \n",
    "https://www.analyticsvidhya.com/blog/2019/09/introduction-information-extraction-python-spacy/\n",
    "\n",
    "https://towardsdatascience.com/deep-learning-for-specific-information-extraction-from-unstructured-texts-12c5b9dceada\n",
    "\n",
    "\n",
    "Information retrieval in medical papers : \n",
    "https://www.acl-bg.org/proceedings/2017/RANLP_W4%202017/pdf/BioNLP001.pdf\n",
    "\n",
    "\n",
    "Question answering : \n",
    "https://towardsdatascience.com/nlp-building-a-question-answering-model-ed0529a68c54\n",
    "\n",
    "https://rajpurkar.github.io/SQuAD-explorer/\n",
    "\n",
    "Automatic question answering : \n",
    "\n",
    "https://towardsdatascience.com/automatic-question-answering-ac7593432842\n",
    "\n",
    "\n",
    "Information retrieval with code : \n",
    "\n",
    "https://medium.com/voice-tech-podcast/information-retrieval-using-boolean-query-in-python-e0ea9bf57f76\n",
    "\n",
    "\n",
    "https://www.tutorialspoint.com/natural_language_processing/natural_language_processing_information_retrieval.htm\n",
    "\n",
    "\n",
    "Knowledge Graph : \n",
    "\n",
    "https://medium.com/analytics-vidhya/knowledge-graph-a-powerful-data-science-technique-to-mine-information-from-text-with-python-f8bfd217accc"
   ]
  },
  {
   "cell_type": "markdown",
   "metadata": {},
   "source": [
    "## Ideas : \n",
    "\n",
    "**Firstly:**\n",
    "\n",
    "\n",
    "\n",
    "- TFIDF cosine similarity to find the most accurate sentences \n",
    "- Retrieving of the original document (to not have the sentences in an unreadable way)\n",
    "\n",
    "**Then** :\n",
    "\n",
    "Indexing the sentences, then perform preprocessing/tfidf to find the indexes of the sentences which are relevant.\n",
    "\n",
    "Picking a few from their scores (the 3/5 best ones, or the ones above a similarity score given a threshold, or both options combined together)\n",
    "\n",
    "**To perform a better visualization of the documents** : \n",
    "- PCA / LDA or t-SNE\n",
    "- K-means to make clusters\n",
    "- Chi-2 scores to see the most relevant words for each cluster \n",
    "\n",
    "**We could even make a button next to an article to see its position compared to others**"
   ]
  },
  {
   "cell_type": "markdown",
   "metadata": {},
   "source": [
    "## Loading packages"
   ]
  },
  {
   "cell_type": "code",
   "execution_count": 19,
   "metadata": {},
   "outputs": [],
   "source": [
    "#Dealing with the DataFrame: \n",
    "import pandas as pd\n",
    "#Dealing with the visualization: \n",
    "import seaborn as sns\n",
    "import matplotlib.pyplot as plt\n",
    "#Preprocessing the text\n",
    "import spacy\n",
    "import re\n",
    "\n",
    "import numpy as np\n",
    "#Type:\n",
    "import string\n",
    "\n",
    "from sklearn.feature_extraction.text import TfidfVectorizer\n",
    "from sklearn.metrics.pairwise import linear_kernel\n",
    "from sklearn.cluster import KMeans\n",
    "\n",
    "import nltk\n",
    "from normalise import normalise\n",
    "from nltk.tokenize import word_tokenize"
   ]
  },
  {
   "cell_type": "markdown",
   "metadata": {},
   "source": [
    "## Loading and exploring data :"
   ]
  },
  {
   "cell_type": "code",
   "execution_count": 2,
   "metadata": {},
   "outputs": [],
   "source": [
    "df_covid= pd.read_csv('cord19_df.csv')"
   ]
  },
  {
   "cell_type": "code",
   "execution_count": 3,
   "metadata": {
    "scrolled": true
   },
   "outputs": [
    {
     "data": {
      "text/html": [
       "<div>\n",
       "<style scoped>\n",
       "    .dataframe tbody tr th:only-of-type {\n",
       "        vertical-align: middle;\n",
       "    }\n",
       "\n",
       "    .dataframe tbody tr th {\n",
       "        vertical-align: top;\n",
       "    }\n",
       "\n",
       "    .dataframe thead th {\n",
       "        text-align: right;\n",
       "    }\n",
       "</style>\n",
       "<table border=\"1\" class=\"dataframe\">\n",
       "  <thead>\n",
       "    <tr style=\"text-align: right;\">\n",
       "      <th></th>\n",
       "      <th>paper_id</th>\n",
       "      <th>body_text</th>\n",
       "      <th>source_x</th>\n",
       "      <th>title</th>\n",
       "      <th>doi</th>\n",
       "      <th>pmcid</th>\n",
       "      <th>pubmed_id</th>\n",
       "      <th>license</th>\n",
       "      <th>abstract</th>\n",
       "      <th>publish_time</th>\n",
       "      <th>authors</th>\n",
       "      <th>journal</th>\n",
       "      <th>Microsoft Academic Paper ID</th>\n",
       "      <th>WHO #Covidence</th>\n",
       "      <th>has_full_text</th>\n",
       "      <th>full_text_file</th>\n",
       "      <th>publish_year</th>\n",
       "      <th>link</th>\n",
       "    </tr>\n",
       "  </thead>\n",
       "  <tbody>\n",
       "    <tr>\n",
       "      <th>0</th>\n",
       "      <td>0015023cc06b5362d332b3baf348d11567ca2fbb</td>\n",
       "      <td>VP3, and VP0 (which is further processed to VP...</td>\n",
       "      <td>biorxiv</td>\n",
       "      <td>The RNA pseudoknots in foot-and-mouth disease ...</td>\n",
       "      <td>10.1101/2020.01.10.901801</td>\n",
       "      <td>NaN</td>\n",
       "      <td>NaN</td>\n",
       "      <td>biorxiv</td>\n",
       "      <td>The positive stranded RNA genomes of picornavi...</td>\n",
       "      <td>2020-01-11</td>\n",
       "      <td>Ward, J. C. J.; Lasecka-Dykes, L.; Neil, C.; A...</td>\n",
       "      <td>NaN</td>\n",
       "      <td>NaN</td>\n",
       "      <td>NaN</td>\n",
       "      <td>True</td>\n",
       "      <td>biorxiv_medrxiv</td>\n",
       "      <td>2020</td>\n",
       "      <td>http://dx.doi.org/10.1101/2020.01.10.901801</td>\n",
       "    </tr>\n",
       "    <tr>\n",
       "      <th>1</th>\n",
       "      <td>004f0f8bb66cf446678dc13cf2701feec4f36d76</td>\n",
       "      <td>The 2019-nCoV epidemic has spread across China...</td>\n",
       "      <td>medrxiv</td>\n",
       "      <td>Healthcare-resource-adjusted vulnerabilities t...</td>\n",
       "      <td>10.1101/2020.02.11.20022111</td>\n",
       "      <td>NaN</td>\n",
       "      <td>NaN</td>\n",
       "      <td>medrvix</td>\n",
       "      <td>We integrate the human movement and healthcare...</td>\n",
       "      <td>2020-02-12</td>\n",
       "      <td>Hanchu Zhou; Jianan Yang; Kaichen Tang; Qingpe...</td>\n",
       "      <td>NaN</td>\n",
       "      <td>NaN</td>\n",
       "      <td>NaN</td>\n",
       "      <td>True</td>\n",
       "      <td>biorxiv_medrxiv</td>\n",
       "      <td>2020</td>\n",
       "      <td>http://dx.doi.org/10.1101/2020.02.11.20022111</td>\n",
       "    </tr>\n",
       "    <tr>\n",
       "      <th>2</th>\n",
       "      <td>00d16927588fb04d4be0e6b269fc02f0d3c2aa7b</td>\n",
       "      <td>Infectious bronchitis (IB), which is caused by...</td>\n",
       "      <td>biorxiv</td>\n",
       "      <td>Real-time, MinION-based, amplicon sequencing f...</td>\n",
       "      <td>10.1101/634600</td>\n",
       "      <td>NaN</td>\n",
       "      <td>NaN</td>\n",
       "      <td>biorxiv</td>\n",
       "      <td>Infectious bronchitis (IB) causes significant ...</td>\n",
       "      <td>2019-05-10</td>\n",
       "      <td>Butt, S. L.; Erwood, E. C.; Zhang, J.; Sellers...</td>\n",
       "      <td>NaN</td>\n",
       "      <td>NaN</td>\n",
       "      <td>NaN</td>\n",
       "      <td>True</td>\n",
       "      <td>biorxiv_medrxiv</td>\n",
       "      <td>2019</td>\n",
       "      <td>http://dx.doi.org/10.1101/634600</td>\n",
       "    </tr>\n",
       "    <tr>\n",
       "      <th>3</th>\n",
       "      <td>0139ea4ca580af99b602c6435368e7fdbefacb03</td>\n",
       "      <td>Nipah is an infectious negative-sense single-s...</td>\n",
       "      <td>biorxiv</td>\n",
       "      <td>A Combined Evidence Approach to Prioritize Nip...</td>\n",
       "      <td>10.1101/2020.03.12.977918</td>\n",
       "      <td>NaN</td>\n",
       "      <td>NaN</td>\n",
       "      <td>biorxiv</td>\n",
       "      <td>AbstractBackgroundNipah Virus (NiV) came into ...</td>\n",
       "      <td>2020-03-12</td>\n",
       "      <td>Nishi Kumari; Ayush Upadhyay; Kishan Kalia; Ra...</td>\n",
       "      <td>NaN</td>\n",
       "      <td>NaN</td>\n",
       "      <td>NaN</td>\n",
       "      <td>True</td>\n",
       "      <td>biorxiv_medrxiv</td>\n",
       "      <td>2020</td>\n",
       "      <td>http://dx.doi.org/10.1101/2020.03.12.977918</td>\n",
       "    </tr>\n",
       "    <tr>\n",
       "      <th>4</th>\n",
       "      <td>013d9d1cba8a54d5d3718c229b812d7cf91b6c89</td>\n",
       "      <td>In December 2019, a cluster of patients with p...</td>\n",
       "      <td>medrxiv</td>\n",
       "      <td>Assessing spread risk of Wuhan novel coronavir...</td>\n",
       "      <td>10.1101/2020.02.04.20020479</td>\n",
       "      <td>NaN</td>\n",
       "      <td>NaN</td>\n",
       "      <td>medrvix</td>\n",
       "      <td>Background: A novel coronavirus (2019-nCoV) em...</td>\n",
       "      <td>2020-02-05</td>\n",
       "      <td>Shengjie Lai; Isaac Bogoch; Nick Ruktanonchai;...</td>\n",
       "      <td>NaN</td>\n",
       "      <td>NaN</td>\n",
       "      <td>NaN</td>\n",
       "      <td>True</td>\n",
       "      <td>biorxiv_medrxiv</td>\n",
       "      <td>2020</td>\n",
       "      <td>http://dx.doi.org/10.1101/2020.02.04.20020479</td>\n",
       "    </tr>\n",
       "  </tbody>\n",
       "</table>\n",
       "</div>"
      ],
      "text/plain": [
       "                                   paper_id  \\\n",
       "0  0015023cc06b5362d332b3baf348d11567ca2fbb   \n",
       "1  004f0f8bb66cf446678dc13cf2701feec4f36d76   \n",
       "2  00d16927588fb04d4be0e6b269fc02f0d3c2aa7b   \n",
       "3  0139ea4ca580af99b602c6435368e7fdbefacb03   \n",
       "4  013d9d1cba8a54d5d3718c229b812d7cf91b6c89   \n",
       "\n",
       "                                           body_text source_x  \\\n",
       "0  VP3, and VP0 (which is further processed to VP...  biorxiv   \n",
       "1  The 2019-nCoV epidemic has spread across China...  medrxiv   \n",
       "2  Infectious bronchitis (IB), which is caused by...  biorxiv   \n",
       "3  Nipah is an infectious negative-sense single-s...  biorxiv   \n",
       "4  In December 2019, a cluster of patients with p...  medrxiv   \n",
       "\n",
       "                                               title  \\\n",
       "0  The RNA pseudoknots in foot-and-mouth disease ...   \n",
       "1  Healthcare-resource-adjusted vulnerabilities t...   \n",
       "2  Real-time, MinION-based, amplicon sequencing f...   \n",
       "3  A Combined Evidence Approach to Prioritize Nip...   \n",
       "4  Assessing spread risk of Wuhan novel coronavir...   \n",
       "\n",
       "                           doi pmcid  pubmed_id  license  \\\n",
       "0    10.1101/2020.01.10.901801   NaN        NaN  biorxiv   \n",
       "1  10.1101/2020.02.11.20022111   NaN        NaN  medrvix   \n",
       "2               10.1101/634600   NaN        NaN  biorxiv   \n",
       "3    10.1101/2020.03.12.977918   NaN        NaN  biorxiv   \n",
       "4  10.1101/2020.02.04.20020479   NaN        NaN  medrvix   \n",
       "\n",
       "                                            abstract publish_time  \\\n",
       "0  The positive stranded RNA genomes of picornavi...   2020-01-11   \n",
       "1  We integrate the human movement and healthcare...   2020-02-12   \n",
       "2  Infectious bronchitis (IB) causes significant ...   2019-05-10   \n",
       "3  AbstractBackgroundNipah Virus (NiV) came into ...   2020-03-12   \n",
       "4  Background: A novel coronavirus (2019-nCoV) em...   2020-02-05   \n",
       "\n",
       "                                             authors journal  \\\n",
       "0  Ward, J. C. J.; Lasecka-Dykes, L.; Neil, C.; A...     NaN   \n",
       "1  Hanchu Zhou; Jianan Yang; Kaichen Tang; Qingpe...     NaN   \n",
       "2  Butt, S. L.; Erwood, E. C.; Zhang, J.; Sellers...     NaN   \n",
       "3  Nishi Kumari; Ayush Upadhyay; Kishan Kalia; Ra...     NaN   \n",
       "4  Shengjie Lai; Isaac Bogoch; Nick Ruktanonchai;...     NaN   \n",
       "\n",
       "   Microsoft Academic Paper ID WHO #Covidence has_full_text   full_text_file  \\\n",
       "0                          NaN            NaN          True  biorxiv_medrxiv   \n",
       "1                          NaN            NaN          True  biorxiv_medrxiv   \n",
       "2                          NaN            NaN          True  biorxiv_medrxiv   \n",
       "3                          NaN            NaN          True  biorxiv_medrxiv   \n",
       "4                          NaN            NaN          True  biorxiv_medrxiv   \n",
       "\n",
       "   publish_year                                           link  \n",
       "0          2020    http://dx.doi.org/10.1101/2020.01.10.901801  \n",
       "1          2020  http://dx.doi.org/10.1101/2020.02.11.20022111  \n",
       "2          2019               http://dx.doi.org/10.1101/634600  \n",
       "3          2020    http://dx.doi.org/10.1101/2020.03.12.977918  \n",
       "4          2020  http://dx.doi.org/10.1101/2020.02.04.20020479  "
      ]
     },
     "execution_count": 3,
     "metadata": {},
     "output_type": "execute_result"
    }
   ],
   "source": [
    "df_covid.head()"
   ]
  },
  {
   "cell_type": "markdown",
   "metadata": {},
   "source": [
    "### General informations : "
   ]
  },
  {
   "cell_type": "code",
   "execution_count": 4,
   "metadata": {},
   "outputs": [
    {
     "name": "stdout",
     "output_type": "stream",
     "text": [
      "<class 'pandas.core.frame.DataFrame'>\n",
      "RangeIndex: 29327 entries, 0 to 29326\n",
      "Data columns (total 18 columns):\n",
      "paper_id                       29327 non-null object\n",
      "body_text                      29327 non-null object\n",
      "source_x                       27690 non-null object\n",
      "title                          27646 non-null object\n",
      "doi                            27380 non-null object\n",
      "pmcid                          12078 non-null object\n",
      "pubmed_id                      20822 non-null float64\n",
      "license                        27690 non-null object\n",
      "abstract                       25688 non-null object\n",
      "publish_time                   27618 non-null object\n",
      "authors                        26940 non-null object\n",
      "journal                        26796 non-null object\n",
      "Microsoft Academic Paper ID    297 non-null float64\n",
      "WHO #Covidence                 423 non-null object\n",
      "has_full_text                  27690 non-null object\n",
      "full_text_file                 27690 non-null object\n",
      "publish_year                   29327 non-null int64\n",
      "link                           27380 non-null object\n",
      "dtypes: float64(2), int64(1), object(15)\n",
      "memory usage: 4.0+ MB\n"
     ]
    }
   ],
   "source": [
    "df_covid.info()"
   ]
  },
  {
   "cell_type": "code",
   "execution_count": 5,
   "metadata": {},
   "outputs": [
    {
     "data": {
      "text/html": [
       "<div>\n",
       "<style scoped>\n",
       "    .dataframe tbody tr th:only-of-type {\n",
       "        vertical-align: middle;\n",
       "    }\n",
       "\n",
       "    .dataframe tbody tr th {\n",
       "        vertical-align: top;\n",
       "    }\n",
       "\n",
       "    .dataframe thead th {\n",
       "        text-align: right;\n",
       "    }\n",
       "</style>\n",
       "<table border=\"1\" class=\"dataframe\">\n",
       "  <thead>\n",
       "    <tr style=\"text-align: right;\">\n",
       "      <th></th>\n",
       "      <th>pubmed_id</th>\n",
       "      <th>Microsoft Academic Paper ID</th>\n",
       "      <th>publish_year</th>\n",
       "    </tr>\n",
       "  </thead>\n",
       "  <tbody>\n",
       "    <tr>\n",
       "      <th>count</th>\n",
       "      <td>2.082200e+04</td>\n",
       "      <td>2.970000e+02</td>\n",
       "      <td>29327.000000</td>\n",
       "    </tr>\n",
       "    <tr>\n",
       "      <th>mean</th>\n",
       "      <td>2.315834e+07</td>\n",
       "      <td>2.756410e+09</td>\n",
       "      <td>1894.259420</td>\n",
       "    </tr>\n",
       "    <tr>\n",
       "      <th>std</th>\n",
       "      <td>7.106324e+06</td>\n",
       "      <td>4.652314e+08</td>\n",
       "      <td>471.529919</td>\n",
       "    </tr>\n",
       "    <tr>\n",
       "      <th>min</th>\n",
       "      <td>2.360400e+04</td>\n",
       "      <td>1.191424e+08</td>\n",
       "      <td>-1.000000</td>\n",
       "    </tr>\n",
       "    <tr>\n",
       "      <th>25%</th>\n",
       "      <td>1.918932e+07</td>\n",
       "      <td>2.747381e+09</td>\n",
       "      <td>2007.000000</td>\n",
       "    </tr>\n",
       "    <tr>\n",
       "      <th>50%</th>\n",
       "      <td>2.474430e+07</td>\n",
       "      <td>3.003886e+09</td>\n",
       "      <td>2013.000000</td>\n",
       "    </tr>\n",
       "    <tr>\n",
       "      <th>75%</th>\n",
       "      <td>2.869597e+07</td>\n",
       "      <td>3.005657e+09</td>\n",
       "      <td>2017.000000</td>\n",
       "    </tr>\n",
       "    <tr>\n",
       "      <th>max</th>\n",
       "      <td>3.215896e+07</td>\n",
       "      <td>3.006672e+09</td>\n",
       "      <td>2020.000000</td>\n",
       "    </tr>\n",
       "  </tbody>\n",
       "</table>\n",
       "</div>"
      ],
      "text/plain": [
       "          pubmed_id  Microsoft Academic Paper ID  publish_year\n",
       "count  2.082200e+04                 2.970000e+02  29327.000000\n",
       "mean   2.315834e+07                 2.756410e+09   1894.259420\n",
       "std    7.106324e+06                 4.652314e+08    471.529919\n",
       "min    2.360400e+04                 1.191424e+08     -1.000000\n",
       "25%    1.918932e+07                 2.747381e+09   2007.000000\n",
       "50%    2.474430e+07                 3.003886e+09   2013.000000\n",
       "75%    2.869597e+07                 3.005657e+09   2017.000000\n",
       "max    3.215896e+07                 3.006672e+09   2020.000000"
      ]
     },
     "execution_count": 5,
     "metadata": {},
     "output_type": "execute_result"
    }
   ],
   "source": [
    "df_covid.describe()"
   ]
  },
  {
   "cell_type": "markdown",
   "metadata": {},
   "source": [
    "#### Years of publication"
   ]
  },
  {
   "cell_type": "code",
   "execution_count": 6,
   "metadata": {},
   "outputs": [
    {
     "data": {
      "image/png": "[encoded data removed]",
      "text/plain": [
       "<Figure size 1080x360 with 1 Axes>"
      ]
     },
     "metadata": {
      "needs_background": "light"
     },
     "output_type": "display_data"
    }
   ],
   "source": [
    "fig = plt.figure(figsize=(15,5))\n",
    "sns.countplot(df_covid.publish_year)\n",
    "plt.xticks(rotation='vertical')\n",
    "plt.show()"
   ]
  },
  {
   "cell_type": "markdown",
   "metadata": {},
   "source": [
    "'-1' is when the year is unknown"
   ]
  },
  {
   "cell_type": "markdown",
   "metadata": {},
   "source": [
    "#### Has full text ?"
   ]
  },
  {
   "cell_type": "code",
   "execution_count": 7,
   "metadata": {},
   "outputs": [
    {
     "data": {
      "text/plain": [
       "<matplotlib.axes._subplots.AxesSubplot at 0x1a83cd9cf48>"
      ]
     },
     "execution_count": 7,
     "metadata": {},
     "output_type": "execute_result"
    },
    {
     "data": {
      "image/png": "[encoded data removed]",
      "text/plain": [
       "<Figure size 1080x360 with 1 Axes>"
      ]
     },
     "metadata": {
      "needs_background": "light"
     },
     "output_type": "display_data"
    }
   ],
   "source": [
    "fig=plt.figure(figsize=(15,5))\n",
    "sns.countplot(df_covid.has_full_text)"
   ]
  },
  {
   "cell_type": "markdown",
   "metadata": {},
   "source": [
    "We have the full text for every articles"
   ]
  },
  {
   "cell_type": "markdown",
   "metadata": {},
   "source": [
    "#### Length of the different parts : "
   ]
  },
  {
   "cell_type": "markdown",
   "metadata": {},
   "source": [
    "##### Length of the body text of the articles"
   ]
  },
  {
   "cell_type": "code",
   "execution_count": 24,
   "metadata": {},
   "outputs": [],
   "source": [
    "Len=[]\n",
    "for i in df_covid.body_text:\n",
    "    Len.append(len(i))"
   ]
  },
  {
   "cell_type": "code",
   "execution_count": 26,
   "metadata": {},
   "outputs": [
    {
     "data": {
      "image/png": "[encoded data removed]",
      "text/plain": [
       "<Figure size 1080x360 with 1 Axes>"
      ]
     },
     "metadata": {
      "needs_background": "light"
     },
     "output_type": "display_data"
    }
   ],
   "source": [
    "plt.figure(figsize=(15,5))\n",
    "plt.hist(Len,bins=50)\n",
    "plt.show()"
   ]
  },
  {
   "cell_type": "code",
   "execution_count": 58,
   "metadata": {},
   "outputs": [
    {
     "data": {
      "text/plain": [
       "6"
      ]
     },
     "execution_count": 58,
     "metadata": {},
     "output_type": "execute_result"
    }
   ],
   "source": [
    "Len=np.array(Len)\n",
    "len(Len[Len>1500000])"
   ]
  },
  {
   "cell_type": "markdown",
   "metadata": {},
   "source": [
    "Taking the first one : "
   ]
  },
  {
   "cell_type": "code",
   "execution_count": 40,
   "metadata": {},
   "outputs": [
    {
     "data": {
      "text/plain": [
       "1153996"
      ]
     },
     "execution_count": 40,
     "metadata": {},
     "output_type": "execute_result"
    }
   ],
   "source": [
    "Len[Len>1000000][0]"
   ]
  },
  {
   "cell_type": "code",
   "execution_count": 36,
   "metadata": {},
   "outputs": [],
   "source": [
    "d={'lengths':Len}\n",
    "Lengths=pd.DataFrame(data=d)"
   ]
  },
  {
   "cell_type": "code",
   "execution_count": 59,
   "metadata": {
    "scrolled": true
   },
   "outputs": [
    {
     "data": {
      "text/html": [
       "<div>\n",
       "<style scoped>\n",
       "    .dataframe tbody tr th:only-of-type {\n",
       "        vertical-align: middle;\n",
       "    }\n",
       "\n",
       "    .dataframe tbody tr th {\n",
       "        vertical-align: top;\n",
       "    }\n",
       "\n",
       "    .dataframe thead th {\n",
       "        text-align: right;\n",
       "    }\n",
       "</style>\n",
       "<table border=\"1\" class=\"dataframe\">\n",
       "  <thead>\n",
       "    <tr style=\"text-align: right;\">\n",
       "      <th></th>\n",
       "      <th>lengths</th>\n",
       "    </tr>\n",
       "  </thead>\n",
       "  <tbody>\n",
       "    <tr>\n",
       "      <th>16328</th>\n",
       "      <td>1722585.0</td>\n",
       "    </tr>\n",
       "    <tr>\n",
       "      <th>16583</th>\n",
       "      <td>1634577.0</td>\n",
       "    </tr>\n",
       "    <tr>\n",
       "      <th>16818</th>\n",
       "      <td>1566439.0</td>\n",
       "    </tr>\n",
       "    <tr>\n",
       "      <th>23678</th>\n",
       "      <td>1529937.0</td>\n",
       "    </tr>\n",
       "    <tr>\n",
       "      <th>24582</th>\n",
       "      <td>1549213.0</td>\n",
       "    </tr>\n",
       "    <tr>\n",
       "      <th>28883</th>\n",
       "      <td>1676463.0</td>\n",
       "    </tr>\n",
       "  </tbody>\n",
       "</table>\n",
       "</div>"
      ],
      "text/plain": [
       "         lengths\n",
       "16328  1722585.0\n",
       "16583  1634577.0\n",
       "16818  1566439.0\n",
       "23678  1529937.0\n",
       "24582  1549213.0\n",
       "28883  1676463.0"
      ]
     },
     "execution_count": 59,
     "metadata": {},
     "output_type": "execute_result"
    }
   ],
   "source": [
    "Lengths[Lengths>1500000].dropna()"
   ]
  },
  {
   "cell_type": "code",
   "execution_count": 42,
   "metadata": {},
   "outputs": [
    {
     "data": {
      "text/plain": [
       "6830    Intraspecific interactions, or interactions be...\n",
       "6831    purpose of this study was to demonstrate the e...\n",
       "Name: body_text, dtype: object"
      ]
     },
     "execution_count": 42,
     "metadata": {},
     "output_type": "execute_result"
    }
   ],
   "source": [
    "df_covid['body_text'].iloc[6830:6832]"
   ]
  },
  {
   "cell_type": "code",
   "execution_count": 44,
   "metadata": {},
   "outputs": [
    {
     "data": {
      "text/plain": [
       "1153996"
      ]
     },
     "execution_count": 44,
     "metadata": {},
     "output_type": "execute_result"
    }
   ],
   "source": [
    "len(df_covid.body_text.iloc[6831])"
   ]
  },
  {
   "cell_type": "code",
   "execution_count": 45,
   "metadata": {},
   "outputs": [
    {
     "data": {
      "text/plain": [
       "(29327,)"
      ]
     },
     "execution_count": 45,
     "metadata": {},
     "output_type": "execute_result"
    }
   ],
   "source": [
    "df_covid.body_text.shape"
   ]
  },
  {
   "cell_type": "code",
   "execution_count": 46,
   "metadata": {},
   "outputs": [
    {
     "data": {
      "text/plain": [
       "1722585"
      ]
     },
     "execution_count": 46,
     "metadata": {},
     "output_type": "execute_result"
    }
   ],
   "source": [
    "np.max(Len)"
   ]
  },
  {
   "cell_type": "markdown",
   "metadata": {},
   "source": [
    "## Preprocessing data : "
   ]
  },
  {
   "cell_type": "markdown",
   "metadata": {},
   "source": [
    "To make data clearer, we are going to use : \n",
    "- lemmatization \n",
    "- the removing of stop words"
   ]
  },
  {
   "cell_type": "markdown",
   "metadata": {},
   "source": [
    "### Using a custom function"
   ]
  },
  {
   "cell_type": "code",
   "execution_count": 52,
   "metadata": {},
   "outputs": [],
   "source": [
    "global spacy_nlp\n",
    "spacy_nlp = spacy.load('en_core_web_sm')\n",
    "#Importing stop_words : \n",
    "STOPWORDS = spacy.lang.en.stop_words.STOP_WORDS"
   ]
  },
  {
   "cell_type": "markdown",
   "metadata": {},
   "source": [
    "Function for pre-processing the text : "
   ]
  },
  {
   "cell_type": "code",
   "execution_count": 53,
   "metadata": {},
   "outputs": [],
   "source": [
    "def clean_text_lemma(text, Stop_Words= STOPWORDS):\n",
    "    \"\"\"\n",
    "    Function clean_text_lemma used for pr-processing the text, with lemmatization and the removing \n",
    "    of stop_words\n",
    "    @Inputs:\n",
    "        text (str), the text needing to be pre-processed\n",
    "    @Outputs:\n",
    "        text (str), the text pre-processed\n",
    "    \"\"\"\n",
    "    #Removing HTML tags\n",
    "    text = re.sub('<[^>]*>', '', text)\n",
    "    #Removing non word characters\n",
    "    text = re.sub('[\\W]+', ' ', text.lower())\n",
    "    #Lowercases :\n",
    "    text = text.lower()\n",
    "    #Mention :\n",
    "    textt=re.sub(r'@[A-Za-z0-9]+','',text)\n",
    "    #URL Links :\n",
    "    text=re.sub('https?://[A-Za-z0-9./]+','',text)\n",
    "    #Lemmatization:\n",
    "    text=spacy_nlp(text)\n",
    "    text = ' '.join(word.lemma_ for word in text) \n",
    "    #Removing Stopwords :\n",
    "    text = ' '.join(word for word in text.split() if word not in STOPWORDS) \n",
    "    return text"
   ]
  },
  {
   "cell_type": "markdown",
   "metadata": {},
   "source": [
    "#### Applying to the CORD-19 dataset:"
   ]
  },
  {
   "cell_type": "code",
   "execution_count": 10,
   "metadata": {
    "scrolled": true
   },
   "outputs": [
    {
     "data": {
      "text/html": [
       "<div>\n",
       "<style scoped>\n",
       "    .dataframe tbody tr th:only-of-type {\n",
       "        vertical-align: middle;\n",
       "    }\n",
       "\n",
       "    .dataframe tbody tr th {\n",
       "        vertical-align: top;\n",
       "    }\n",
       "\n",
       "    .dataframe thead th {\n",
       "        text-align: right;\n",
       "    }\n",
       "</style>\n",
       "<table border=\"1\" class=\"dataframe\">\n",
       "  <thead>\n",
       "    <tr style=\"text-align: right;\">\n",
       "      <th></th>\n",
       "      <th>paper_id</th>\n",
       "      <th>body_text</th>\n",
       "      <th>source_x</th>\n",
       "      <th>title</th>\n",
       "      <th>doi</th>\n",
       "      <th>pmcid</th>\n",
       "      <th>pubmed_id</th>\n",
       "      <th>license</th>\n",
       "      <th>abstract</th>\n",
       "      <th>publish_time</th>\n",
       "      <th>authors</th>\n",
       "      <th>journal</th>\n",
       "      <th>Microsoft Academic Paper ID</th>\n",
       "      <th>WHO #Covidence</th>\n",
       "      <th>has_full_text</th>\n",
       "      <th>full_text_file</th>\n",
       "      <th>publish_year</th>\n",
       "      <th>link</th>\n",
       "    </tr>\n",
       "  </thead>\n",
       "  <tbody>\n",
       "    <tr>\n",
       "      <th>0</th>\n",
       "      <td>0015023cc06b5362d332b3baf348d11567ca2fbb</td>\n",
       "      <td>VP3, and VP0 (which is further processed to VP...</td>\n",
       "      <td>biorxiv</td>\n",
       "      <td>The RNA pseudoknots in foot-and-mouth disease ...</td>\n",
       "      <td>10.1101/2020.01.10.901801</td>\n",
       "      <td>NaN</td>\n",
       "      <td>NaN</td>\n",
       "      <td>biorxiv</td>\n",
       "      <td>The positive stranded RNA genomes of picornavi...</td>\n",
       "      <td>2020-01-11</td>\n",
       "      <td>Ward, J. C. J.; Lasecka-Dykes, L.; Neil, C.; A...</td>\n",
       "      <td>NaN</td>\n",
       "      <td>NaN</td>\n",
       "      <td>NaN</td>\n",
       "      <td>True</td>\n",
       "      <td>biorxiv_medrxiv</td>\n",
       "      <td>2020</td>\n",
       "      <td>http://dx.doi.org/10.1101/2020.01.10.901801</td>\n",
       "    </tr>\n",
       "    <tr>\n",
       "      <th>1</th>\n",
       "      <td>004f0f8bb66cf446678dc13cf2701feec4f36d76</td>\n",
       "      <td>The 2019-nCoV epidemic has spread across China...</td>\n",
       "      <td>medrxiv</td>\n",
       "      <td>Healthcare-resource-adjusted vulnerabilities t...</td>\n",
       "      <td>10.1101/2020.02.11.20022111</td>\n",
       "      <td>NaN</td>\n",
       "      <td>NaN</td>\n",
       "      <td>medrvix</td>\n",
       "      <td>We integrate the human movement and healthcare...</td>\n",
       "      <td>2020-02-12</td>\n",
       "      <td>Hanchu Zhou; Jianan Yang; Kaichen Tang; Qingpe...</td>\n",
       "      <td>NaN</td>\n",
       "      <td>NaN</td>\n",
       "      <td>NaN</td>\n",
       "      <td>True</td>\n",
       "      <td>biorxiv_medrxiv</td>\n",
       "      <td>2020</td>\n",
       "      <td>http://dx.doi.org/10.1101/2020.02.11.20022111</td>\n",
       "    </tr>\n",
       "    <tr>\n",
       "      <th>2</th>\n",
       "      <td>00d16927588fb04d4be0e6b269fc02f0d3c2aa7b</td>\n",
       "      <td>Infectious bronchitis (IB), which is caused by...</td>\n",
       "      <td>biorxiv</td>\n",
       "      <td>Real-time, MinION-based, amplicon sequencing f...</td>\n",
       "      <td>10.1101/634600</td>\n",
       "      <td>NaN</td>\n",
       "      <td>NaN</td>\n",
       "      <td>biorxiv</td>\n",
       "      <td>Infectious bronchitis (IB) causes significant ...</td>\n",
       "      <td>2019-05-10</td>\n",
       "      <td>Butt, S. L.; Erwood, E. C.; Zhang, J.; Sellers...</td>\n",
       "      <td>NaN</td>\n",
       "      <td>NaN</td>\n",
       "      <td>NaN</td>\n",
       "      <td>True</td>\n",
       "      <td>biorxiv_medrxiv</td>\n",
       "      <td>2019</td>\n",
       "      <td>http://dx.doi.org/10.1101/634600</td>\n",
       "    </tr>\n",
       "    <tr>\n",
       "      <th>3</th>\n",
       "      <td>0139ea4ca580af99b602c6435368e7fdbefacb03</td>\n",
       "      <td>Nipah is an infectious negative-sense single-s...</td>\n",
       "      <td>biorxiv</td>\n",
       "      <td>A Combined Evidence Approach to Prioritize Nip...</td>\n",
       "      <td>10.1101/2020.03.12.977918</td>\n",
       "      <td>NaN</td>\n",
       "      <td>NaN</td>\n",
       "      <td>biorxiv</td>\n",
       "      <td>AbstractBackgroundNipah Virus (NiV) came into ...</td>\n",
       "      <td>2020-03-12</td>\n",
       "      <td>Nishi Kumari; Ayush Upadhyay; Kishan Kalia; Ra...</td>\n",
       "      <td>NaN</td>\n",
       "      <td>NaN</td>\n",
       "      <td>NaN</td>\n",
       "      <td>True</td>\n",
       "      <td>biorxiv_medrxiv</td>\n",
       "      <td>2020</td>\n",
       "      <td>http://dx.doi.org/10.1101/2020.03.12.977918</td>\n",
       "    </tr>\n",
       "    <tr>\n",
       "      <th>4</th>\n",
       "      <td>013d9d1cba8a54d5d3718c229b812d7cf91b6c89</td>\n",
       "      <td>In December 2019, a cluster of patients with p...</td>\n",
       "      <td>medrxiv</td>\n",
       "      <td>Assessing spread risk of Wuhan novel coronavir...</td>\n",
       "      <td>10.1101/2020.02.04.20020479</td>\n",
       "      <td>NaN</td>\n",
       "      <td>NaN</td>\n",
       "      <td>medrvix</td>\n",
       "      <td>Background: A novel coronavirus (2019-nCoV) em...</td>\n",
       "      <td>2020-02-05</td>\n",
       "      <td>Shengjie Lai; Isaac Bogoch; Nick Ruktanonchai;...</td>\n",
       "      <td>NaN</td>\n",
       "      <td>NaN</td>\n",
       "      <td>NaN</td>\n",
       "      <td>True</td>\n",
       "      <td>biorxiv_medrxiv</td>\n",
       "      <td>2020</td>\n",
       "      <td>http://dx.doi.org/10.1101/2020.02.04.20020479</td>\n",
       "    </tr>\n",
       "  </tbody>\n",
       "</table>\n",
       "</div>"
      ],
      "text/plain": [
       "                                   paper_id  \\\n",
       "0  0015023cc06b5362d332b3baf348d11567ca2fbb   \n",
       "1  004f0f8bb66cf446678dc13cf2701feec4f36d76   \n",
       "2  00d16927588fb04d4be0e6b269fc02f0d3c2aa7b   \n",
       "3  0139ea4ca580af99b602c6435368e7fdbefacb03   \n",
       "4  013d9d1cba8a54d5d3718c229b812d7cf91b6c89   \n",
       "\n",
       "                                           body_text source_x  \\\n",
       "0  VP3, and VP0 (which is further processed to VP...  biorxiv   \n",
       "1  The 2019-nCoV epidemic has spread across China...  medrxiv   \n",
       "2  Infectious bronchitis (IB), which is caused by...  biorxiv   \n",
       "3  Nipah is an infectious negative-sense single-s...  biorxiv   \n",
       "4  In December 2019, a cluster of patients with p...  medrxiv   \n",
       "\n",
       "                                               title  \\\n",
       "0  The RNA pseudoknots in foot-and-mouth disease ...   \n",
       "1  Healthcare-resource-adjusted vulnerabilities t...   \n",
       "2  Real-time, MinION-based, amplicon sequencing f...   \n",
       "3  A Combined Evidence Approach to Prioritize Nip...   \n",
       "4  Assessing spread risk of Wuhan novel coronavir...   \n",
       "\n",
       "                           doi pmcid  pubmed_id  license  \\\n",
       "0    10.1101/2020.01.10.901801   NaN        NaN  biorxiv   \n",
       "1  10.1101/2020.02.11.20022111   NaN        NaN  medrvix   \n",
       "2               10.1101/634600   NaN        NaN  biorxiv   \n",
       "3    10.1101/2020.03.12.977918   NaN        NaN  biorxiv   \n",
       "4  10.1101/2020.02.04.20020479   NaN        NaN  medrvix   \n",
       "\n",
       "                                            abstract publish_time  \\\n",
       "0  The positive stranded RNA genomes of picornavi...   2020-01-11   \n",
       "1  We integrate the human movement and healthcare...   2020-02-12   \n",
       "2  Infectious bronchitis (IB) causes significant ...   2019-05-10   \n",
       "3  AbstractBackgroundNipah Virus (NiV) came into ...   2020-03-12   \n",
       "4  Background: A novel coronavirus (2019-nCoV) em...   2020-02-05   \n",
       "\n",
       "                                             authors journal  \\\n",
       "0  Ward, J. C. J.; Lasecka-Dykes, L.; Neil, C.; A...     NaN   \n",
       "1  Hanchu Zhou; Jianan Yang; Kaichen Tang; Qingpe...     NaN   \n",
       "2  Butt, S. L.; Erwood, E. C.; Zhang, J.; Sellers...     NaN   \n",
       "3  Nishi Kumari; Ayush Upadhyay; Kishan Kalia; Ra...     NaN   \n",
       "4  Shengjie Lai; Isaac Bogoch; Nick Ruktanonchai;...     NaN   \n",
       "\n",
       "   Microsoft Academic Paper ID WHO #Covidence has_full_text   full_text_file  \\\n",
       "0                          NaN            NaN          True  biorxiv_medrxiv   \n",
       "1                          NaN            NaN          True  biorxiv_medrxiv   \n",
       "2                          NaN            NaN          True  biorxiv_medrxiv   \n",
       "3                          NaN            NaN          True  biorxiv_medrxiv   \n",
       "4                          NaN            NaN          True  biorxiv_medrxiv   \n",
       "\n",
       "   publish_year                                           link  \n",
       "0          2020    http://dx.doi.org/10.1101/2020.01.10.901801  \n",
       "1          2020  http://dx.doi.org/10.1101/2020.02.11.20022111  \n",
       "2          2019               http://dx.doi.org/10.1101/634600  \n",
       "3          2020    http://dx.doi.org/10.1101/2020.03.12.977918  \n",
       "4          2020  http://dx.doi.org/10.1101/2020.02.04.20020479  "
      ]
     },
     "execution_count": 10,
     "metadata": {},
     "output_type": "execute_result"
    }
   ],
   "source": [
    "df_covid.head()"
   ]
  },
  {
   "cell_type": "markdown",
   "metadata": {},
   "source": [
    "We apply our custom pre-processing function to the necessary features, to obtain clean text. "
   ]
  },
  {
   "cell_type": "code",
   "execution_count": 107,
   "metadata": {},
   "outputs": [
    {
     "ename": "ValueError",
     "evalue": "[E088] Text of length 1473294 exceeds maximum of 1000000. The v2.x parser and NER models require roughly 1GB of temporary memory per 100,000 characters in the input. This means long texts may cause memory allocation errors. If you're not using the parser or NER, it's probably safe to increase the `nlp.max_length` limit. The limit is in number of characters, so you can check whether your inputs are too long by checking `len(text)`.",
     "output_type": "error",
     "traceback": [
      "\u001b[1;31m---------------------------------------------------------------------------\u001b[0m",
      "\u001b[1;31mValueError\u001b[0m                                Traceback (most recent call last)",
      "\u001b[1;32m<ipython-input-107-5230a0ed432f>\u001b[0m in \u001b[0;36m<module>\u001b[1;34m\u001b[0m\n\u001b[0;32m      4\u001b[0m \u001b[0mdf_covid\u001b[0m\u001b[1;33m[\u001b[0m\u001b[1;34m'abstract'\u001b[0m\u001b[1;33m]\u001b[0m \u001b[1;33m=\u001b[0m \u001b[0mdf_covid\u001b[0m\u001b[1;33m[\u001b[0m\u001b[1;34m'abstract'\u001b[0m\u001b[1;33m]\u001b[0m\u001b[1;33m.\u001b[0m\u001b[0mastype\u001b[0m\u001b[1;33m(\u001b[0m\u001b[1;34m'str'\u001b[0m\u001b[1;33m)\u001b[0m\u001b[1;33m.\u001b[0m\u001b[0mapply\u001b[0m\u001b[1;33m(\u001b[0m\u001b[0mclean_text_lemma\u001b[0m\u001b[1;33m)\u001b[0m\u001b[1;33m\u001b[0m\u001b[1;33m\u001b[0m\u001b[0m\n\u001b[0;32m      5\u001b[0m \u001b[1;31m#To the text body :\u001b[0m\u001b[1;33m\u001b[0m\u001b[1;33m\u001b[0m\u001b[1;33m\u001b[0m\u001b[0m\n\u001b[1;32m----> 6\u001b[1;33m \u001b[0mdf_covid\u001b[0m\u001b[1;33m[\u001b[0m\u001b[1;34m'body_text'\u001b[0m\u001b[1;33m]\u001b[0m \u001b[1;33m=\u001b[0m \u001b[0mdf_covid\u001b[0m\u001b[1;33m[\u001b[0m\u001b[1;34m'body_text'\u001b[0m\u001b[1;33m]\u001b[0m\u001b[1;33m.\u001b[0m\u001b[0mastype\u001b[0m\u001b[1;33m(\u001b[0m\u001b[1;34m'str'\u001b[0m\u001b[1;33m)\u001b[0m\u001b[1;33m.\u001b[0m\u001b[0mapply\u001b[0m\u001b[1;33m(\u001b[0m\u001b[0mclean_text_lemma\u001b[0m\u001b[1;33m)\u001b[0m\u001b[1;33m\u001b[0m\u001b[1;33m\u001b[0m\u001b[0m\n\u001b[0m",
      "\u001b[1;32m~\\Anaconda3\\lib\\site-packages\\pandas\\core\\series.py\u001b[0m in \u001b[0;36mapply\u001b[1;34m(self, func, convert_dtype, args, **kwds)\u001b[0m\n\u001b[0;32m   3589\u001b[0m             \u001b[1;32melse\u001b[0m\u001b[1;33m:\u001b[0m\u001b[1;33m\u001b[0m\u001b[1;33m\u001b[0m\u001b[0m\n\u001b[0;32m   3590\u001b[0m                 \u001b[0mvalues\u001b[0m \u001b[1;33m=\u001b[0m \u001b[0mself\u001b[0m\u001b[1;33m.\u001b[0m\u001b[0mastype\u001b[0m\u001b[1;33m(\u001b[0m\u001b[0mobject\u001b[0m\u001b[1;33m)\u001b[0m\u001b[1;33m.\u001b[0m\u001b[0mvalues\u001b[0m\u001b[1;33m\u001b[0m\u001b[1;33m\u001b[0m\u001b[0m\n\u001b[1;32m-> 3591\u001b[1;33m                 \u001b[0mmapped\u001b[0m \u001b[1;33m=\u001b[0m \u001b[0mlib\u001b[0m\u001b[1;33m.\u001b[0m\u001b[0mmap_infer\u001b[0m\u001b[1;33m(\u001b[0m\u001b[0mvalues\u001b[0m\u001b[1;33m,\u001b[0m \u001b[0mf\u001b[0m\u001b[1;33m,\u001b[0m \u001b[0mconvert\u001b[0m\u001b[1;33m=\u001b[0m\u001b[0mconvert_dtype\u001b[0m\u001b[1;33m)\u001b[0m\u001b[1;33m\u001b[0m\u001b[1;33m\u001b[0m\u001b[0m\n\u001b[0m\u001b[0;32m   3592\u001b[0m \u001b[1;33m\u001b[0m\u001b[0m\n\u001b[0;32m   3593\u001b[0m         \u001b[1;32mif\u001b[0m \u001b[0mlen\u001b[0m\u001b[1;33m(\u001b[0m\u001b[0mmapped\u001b[0m\u001b[1;33m)\u001b[0m \u001b[1;32mand\u001b[0m \u001b[0misinstance\u001b[0m\u001b[1;33m(\u001b[0m\u001b[0mmapped\u001b[0m\u001b[1;33m[\u001b[0m\u001b[1;36m0\u001b[0m\u001b[1;33m]\u001b[0m\u001b[1;33m,\u001b[0m \u001b[0mSeries\u001b[0m\u001b[1;33m)\u001b[0m\u001b[1;33m:\u001b[0m\u001b[1;33m\u001b[0m\u001b[1;33m\u001b[0m\u001b[0m\n",
      "\u001b[1;32mpandas\\_libs\\lib.pyx\u001b[0m in \u001b[0;36mpandas._libs.lib.map_infer\u001b[1;34m()\u001b[0m\n",
      "\u001b[1;32m<ipython-input-104-c8030636361c>\u001b[0m in \u001b[0;36mclean_text_lemma\u001b[1;34m(text, Stop_Words)\u001b[0m\n\u001b[0;32m     19\u001b[0m     \u001b[0mtext\u001b[0m\u001b[1;33m=\u001b[0m\u001b[0mre\u001b[0m\u001b[1;33m.\u001b[0m\u001b[0msub\u001b[0m\u001b[1;33m(\u001b[0m\u001b[1;34m'https?://[A-Za-z0-9./]+'\u001b[0m\u001b[1;33m,\u001b[0m\u001b[1;34m''\u001b[0m\u001b[1;33m,\u001b[0m\u001b[0mtext\u001b[0m\u001b[1;33m)\u001b[0m\u001b[1;33m\u001b[0m\u001b[1;33m\u001b[0m\u001b[0m\n\u001b[0;32m     20\u001b[0m     \u001b[1;31m#Lemmatization:\u001b[0m\u001b[1;33m\u001b[0m\u001b[1;33m\u001b[0m\u001b[1;33m\u001b[0m\u001b[0m\n\u001b[1;32m---> 21\u001b[1;33m     \u001b[0mtext\u001b[0m\u001b[1;33m=\u001b[0m\u001b[0mspacy_nlp\u001b[0m\u001b[1;33m(\u001b[0m\u001b[0mtext\u001b[0m\u001b[1;33m)\u001b[0m\u001b[1;33m\u001b[0m\u001b[1;33m\u001b[0m\u001b[0m\n\u001b[0m\u001b[0;32m     22\u001b[0m     \u001b[0mtext\u001b[0m \u001b[1;33m=\u001b[0m \u001b[1;34m' '\u001b[0m\u001b[1;33m.\u001b[0m\u001b[0mjoin\u001b[0m\u001b[1;33m(\u001b[0m\u001b[0mword\u001b[0m\u001b[1;33m.\u001b[0m\u001b[0mlemma_\u001b[0m \u001b[1;32mfor\u001b[0m \u001b[0mword\u001b[0m \u001b[1;32min\u001b[0m \u001b[0mtext\u001b[0m\u001b[1;33m)\u001b[0m\u001b[1;33m\u001b[0m\u001b[1;33m\u001b[0m\u001b[0m\n\u001b[0;32m     23\u001b[0m     \u001b[1;31m#Removing Stopwords :\u001b[0m\u001b[1;33m\u001b[0m\u001b[1;33m\u001b[0m\u001b[1;33m\u001b[0m\u001b[0m\n",
      "\u001b[1;32m~\\Anaconda3\\lib\\site-packages\\spacy\\language.py\u001b[0m in \u001b[0;36m__call__\u001b[1;34m(self, text, disable, component_cfg)\u001b[0m\n\u001b[0;32m    423\u001b[0m         \u001b[1;32mif\u001b[0m \u001b[0mlen\u001b[0m\u001b[1;33m(\u001b[0m\u001b[0mtext\u001b[0m\u001b[1;33m)\u001b[0m \u001b[1;33m>\u001b[0m \u001b[0mself\u001b[0m\u001b[1;33m.\u001b[0m\u001b[0mmax_length\u001b[0m\u001b[1;33m:\u001b[0m\u001b[1;33m\u001b[0m\u001b[1;33m\u001b[0m\u001b[0m\n\u001b[0;32m    424\u001b[0m             raise ValueError(\n\u001b[1;32m--> 425\u001b[1;33m                 \u001b[0mErrors\u001b[0m\u001b[1;33m.\u001b[0m\u001b[0mE088\u001b[0m\u001b[1;33m.\u001b[0m\u001b[0mformat\u001b[0m\u001b[1;33m(\u001b[0m\u001b[0mlength\u001b[0m\u001b[1;33m=\u001b[0m\u001b[0mlen\u001b[0m\u001b[1;33m(\u001b[0m\u001b[0mtext\u001b[0m\u001b[1;33m)\u001b[0m\u001b[1;33m,\u001b[0m \u001b[0mmax_length\u001b[0m\u001b[1;33m=\u001b[0m\u001b[0mself\u001b[0m\u001b[1;33m.\u001b[0m\u001b[0mmax_length\u001b[0m\u001b[1;33m)\u001b[0m\u001b[1;33m\u001b[0m\u001b[1;33m\u001b[0m\u001b[0m\n\u001b[0m\u001b[0;32m    426\u001b[0m             )\n\u001b[0;32m    427\u001b[0m         \u001b[0mdoc\u001b[0m \u001b[1;33m=\u001b[0m \u001b[0mself\u001b[0m\u001b[1;33m.\u001b[0m\u001b[0mmake_doc\u001b[0m\u001b[1;33m(\u001b[0m\u001b[0mtext\u001b[0m\u001b[1;33m)\u001b[0m\u001b[1;33m\u001b[0m\u001b[1;33m\u001b[0m\u001b[0m\n",
      "\u001b[1;31mValueError\u001b[0m: [E088] Text of length 1473294 exceeds maximum of 1000000. The v2.x parser and NER models require roughly 1GB of temporary memory per 100,000 characters in the input. This means long texts may cause memory allocation errors. If you're not using the parser or NER, it's probably safe to increase the `nlp.max_length` limit. The limit is in number of characters, so you can check whether your inputs are too long by checking `len(text)`."
     ]
    }
   ],
   "source": [
    "#To the title : \n",
    "df_covid['title'] = df_covid['title'].astype('str').apply(clean_text_lemma)\n",
    "#To the Abstract : \n",
    "df_covid['abstract'] = df_covid['abstract'].astype('str').apply(clean_text_lemma)\n",
    "#To the text body : \n",
    "df_covid['body_text'] = df_covid['body_text'].astype('str').apply(clean_text_lemma)"
   ]
  },
  {
   "cell_type": "markdown",
   "metadata": {},
   "source": [
    "We can now save this pre-processing, to avoid doing it every time we need to access to it. "
   ]
  },
  {
   "cell_type": "code",
   "execution_count": 108,
   "metadata": {},
   "outputs": [],
   "source": [
    "df_covid.to_csv('cord19_df_preprocessed.csv', index=False)"
   ]
  },
  {
   "cell_type": "code",
   "execution_count": 12,
   "metadata": {},
   "outputs": [],
   "source": [
    "df_covid_preprocessed_a_t=pd.read_csv('cord19_df_preprocessed_abstract_titles.csv')"
   ]
  },
  {
   "cell_type": "code",
   "execution_count": 13,
   "metadata": {},
   "outputs": [
    {
     "data": {
      "text/html": [
       "<div>\n",
       "<style scoped>\n",
       "    .dataframe tbody tr th:only-of-type {\n",
       "        vertical-align: middle;\n",
       "    }\n",
       "\n",
       "    .dataframe tbody tr th {\n",
       "        vertical-align: top;\n",
       "    }\n",
       "\n",
       "    .dataframe thead th {\n",
       "        text-align: right;\n",
       "    }\n",
       "</style>\n",
       "<table border=\"1\" class=\"dataframe\">\n",
       "  <thead>\n",
       "    <tr style=\"text-align: right;\">\n",
       "      <th></th>\n",
       "      <th>paper_id</th>\n",
       "      <th>body_text</th>\n",
       "      <th>source_x</th>\n",
       "      <th>title</th>\n",
       "      <th>doi</th>\n",
       "      <th>pmcid</th>\n",
       "      <th>pubmed_id</th>\n",
       "      <th>license</th>\n",
       "      <th>abstract</th>\n",
       "      <th>publish_time</th>\n",
       "      <th>authors</th>\n",
       "      <th>journal</th>\n",
       "      <th>Microsoft Academic Paper ID</th>\n",
       "      <th>WHO #Covidence</th>\n",
       "      <th>has_full_text</th>\n",
       "      <th>full_text_file</th>\n",
       "      <th>publish_year</th>\n",
       "      <th>link</th>\n",
       "    </tr>\n",
       "  </thead>\n",
       "  <tbody>\n",
       "    <tr>\n",
       "      <th>0</th>\n",
       "      <td>0015023cc06b5362d332b3baf348d11567ca2fbb</td>\n",
       "      <td>VP3, and VP0 (which is further processed to VP...</td>\n",
       "      <td>biorxiv</td>\n",
       "      <td>rna pseudoknot foot mouth disease virus dispen...</td>\n",
       "      <td>10.1101/2020.01.10.901801</td>\n",
       "      <td>NaN</td>\n",
       "      <td>NaN</td>\n",
       "      <td>biorxiv</td>\n",
       "      <td>positive strand rna genome picornavirus compri...</td>\n",
       "      <td>2020-01-11</td>\n",
       "      <td>Ward, J. C. J.; Lasecka-Dykes, L.; Neil, C.; A...</td>\n",
       "      <td>NaN</td>\n",
       "      <td>NaN</td>\n",
       "      <td>NaN</td>\n",
       "      <td>True</td>\n",
       "      <td>biorxiv_medrxiv</td>\n",
       "      <td>2020</td>\n",
       "      <td>http://dx.doi.org/10.1101/2020.01.10.901801</td>\n",
       "    </tr>\n",
       "    <tr>\n",
       "      <th>1</th>\n",
       "      <td>004f0f8bb66cf446678dc13cf2701feec4f36d76</td>\n",
       "      <td>The 2019-nCoV epidemic has spread across China...</td>\n",
       "      <td>medrxiv</td>\n",
       "      <td>healthcare resource adjust vulnerability 2019 ...</td>\n",
       "      <td>10.1101/2020.02.11.20022111</td>\n",
       "      <td>NaN</td>\n",
       "      <td>NaN</td>\n",
       "      <td>medrvix</td>\n",
       "      <td>-PRON- integrate human movement healthcare res...</td>\n",
       "      <td>2020-02-12</td>\n",
       "      <td>Hanchu Zhou; Jianan Yang; Kaichen Tang; Qingpe...</td>\n",
       "      <td>NaN</td>\n",
       "      <td>NaN</td>\n",
       "      <td>NaN</td>\n",
       "      <td>True</td>\n",
       "      <td>biorxiv_medrxiv</td>\n",
       "      <td>2020</td>\n",
       "      <td>http://dx.doi.org/10.1101/2020.02.11.20022111</td>\n",
       "    </tr>\n",
       "    <tr>\n",
       "      <th>2</th>\n",
       "      <td>00d16927588fb04d4be0e6b269fc02f0d3c2aa7b</td>\n",
       "      <td>Infectious bronchitis (IB), which is caused by...</td>\n",
       "      <td>biorxiv</td>\n",
       "      <td>real time minion base amplicon sequence lineag...</td>\n",
       "      <td>10.1101/634600</td>\n",
       "      <td>NaN</td>\n",
       "      <td>NaN</td>\n",
       "      <td>biorxiv</td>\n",
       "      <td>infectious bronchitis ib cause significant eco...</td>\n",
       "      <td>2019-05-10</td>\n",
       "      <td>Butt, S. L.; Erwood, E. C.; Zhang, J.; Sellers...</td>\n",
       "      <td>NaN</td>\n",
       "      <td>NaN</td>\n",
       "      <td>NaN</td>\n",
       "      <td>True</td>\n",
       "      <td>biorxiv_medrxiv</td>\n",
       "      <td>2019</td>\n",
       "      <td>http://dx.doi.org/10.1101/634600</td>\n",
       "    </tr>\n",
       "    <tr>\n",
       "      <th>3</th>\n",
       "      <td>0139ea4ca580af99b602c6435368e7fdbefacb03</td>\n",
       "      <td>Nipah is an infectious negative-sense single-s...</td>\n",
       "      <td>biorxiv</td>\n",
       "      <td>combine evidence approach prioritize nipah vir...</td>\n",
       "      <td>10.1101/2020.03.12.977918</td>\n",
       "      <td>NaN</td>\n",
       "      <td>NaN</td>\n",
       "      <td>biorxiv</td>\n",
       "      <td>abstractbackgroundnipah virus niv come limelig...</td>\n",
       "      <td>2020-03-12</td>\n",
       "      <td>Nishi Kumari; Ayush Upadhyay; Kishan Kalia; Ra...</td>\n",
       "      <td>NaN</td>\n",
       "      <td>NaN</td>\n",
       "      <td>NaN</td>\n",
       "      <td>True</td>\n",
       "      <td>biorxiv_medrxiv</td>\n",
       "      <td>2020</td>\n",
       "      <td>http://dx.doi.org/10.1101/2020.03.12.977918</td>\n",
       "    </tr>\n",
       "    <tr>\n",
       "      <th>4</th>\n",
       "      <td>013d9d1cba8a54d5d3718c229b812d7cf91b6c89</td>\n",
       "      <td>In December 2019, a cluster of patients with p...</td>\n",
       "      <td>medrxiv</td>\n",
       "      <td>assess spread risk wuhan novel coronavirus chi...</td>\n",
       "      <td>10.1101/2020.02.04.20020479</td>\n",
       "      <td>NaN</td>\n",
       "      <td>NaN</td>\n",
       "      <td>medrvix</td>\n",
       "      <td>background novel coronavirus 2019 ncov emerge ...</td>\n",
       "      <td>2020-02-05</td>\n",
       "      <td>Shengjie Lai; Isaac Bogoch; Nick Ruktanonchai;...</td>\n",
       "      <td>NaN</td>\n",
       "      <td>NaN</td>\n",
       "      <td>NaN</td>\n",
       "      <td>True</td>\n",
       "      <td>biorxiv_medrxiv</td>\n",
       "      <td>2020</td>\n",
       "      <td>http://dx.doi.org/10.1101/2020.02.04.20020479</td>\n",
       "    </tr>\n",
       "  </tbody>\n",
       "</table>\n",
       "</div>"
      ],
      "text/plain": [
       "                                   paper_id  \\\n",
       "0  0015023cc06b5362d332b3baf348d11567ca2fbb   \n",
       "1  004f0f8bb66cf446678dc13cf2701feec4f36d76   \n",
       "2  00d16927588fb04d4be0e6b269fc02f0d3c2aa7b   \n",
       "3  0139ea4ca580af99b602c6435368e7fdbefacb03   \n",
       "4  013d9d1cba8a54d5d3718c229b812d7cf91b6c89   \n",
       "\n",
       "                                           body_text source_x  \\\n",
       "0  VP3, and VP0 (which is further processed to VP...  biorxiv   \n",
       "1  The 2019-nCoV epidemic has spread across China...  medrxiv   \n",
       "2  Infectious bronchitis (IB), which is caused by...  biorxiv   \n",
       "3  Nipah is an infectious negative-sense single-s...  biorxiv   \n",
       "4  In December 2019, a cluster of patients with p...  medrxiv   \n",
       "\n",
       "                                               title  \\\n",
       "0  rna pseudoknot foot mouth disease virus dispen...   \n",
       "1  healthcare resource adjust vulnerability 2019 ...   \n",
       "2  real time minion base amplicon sequence lineag...   \n",
       "3  combine evidence approach prioritize nipah vir...   \n",
       "4  assess spread risk wuhan novel coronavirus chi...   \n",
       "\n",
       "                           doi pmcid  pubmed_id  license  \\\n",
       "0    10.1101/2020.01.10.901801   NaN        NaN  biorxiv   \n",
       "1  10.1101/2020.02.11.20022111   NaN        NaN  medrvix   \n",
       "2               10.1101/634600   NaN        NaN  biorxiv   \n",
       "3    10.1101/2020.03.12.977918   NaN        NaN  biorxiv   \n",
       "4  10.1101/2020.02.04.20020479   NaN        NaN  medrvix   \n",
       "\n",
       "                                            abstract publish_time  \\\n",
       "0  positive strand rna genome picornavirus compri...   2020-01-11   \n",
       "1  -PRON- integrate human movement healthcare res...   2020-02-12   \n",
       "2  infectious bronchitis ib cause significant eco...   2019-05-10   \n",
       "3  abstractbackgroundnipah virus niv come limelig...   2020-03-12   \n",
       "4  background novel coronavirus 2019 ncov emerge ...   2020-02-05   \n",
       "\n",
       "                                             authors journal  \\\n",
       "0  Ward, J. C. J.; Lasecka-Dykes, L.; Neil, C.; A...     NaN   \n",
       "1  Hanchu Zhou; Jianan Yang; Kaichen Tang; Qingpe...     NaN   \n",
       "2  Butt, S. L.; Erwood, E. C.; Zhang, J.; Sellers...     NaN   \n",
       "3  Nishi Kumari; Ayush Upadhyay; Kishan Kalia; Ra...     NaN   \n",
       "4  Shengjie Lai; Isaac Bogoch; Nick Ruktanonchai;...     NaN   \n",
       "\n",
       "   Microsoft Academic Paper ID WHO #Covidence has_full_text   full_text_file  \\\n",
       "0                          NaN            NaN          True  biorxiv_medrxiv   \n",
       "1                          NaN            NaN          True  biorxiv_medrxiv   \n",
       "2                          NaN            NaN          True  biorxiv_medrxiv   \n",
       "3                          NaN            NaN          True  biorxiv_medrxiv   \n",
       "4                          NaN            NaN          True  biorxiv_medrxiv   \n",
       "\n",
       "   publish_year                                           link  \n",
       "0          2020    http://dx.doi.org/10.1101/2020.01.10.901801  \n",
       "1          2020  http://dx.doi.org/10.1101/2020.02.11.20022111  \n",
       "2          2019               http://dx.doi.org/10.1101/634600  \n",
       "3          2020    http://dx.doi.org/10.1101/2020.03.12.977918  \n",
       "4          2020  http://dx.doi.org/10.1101/2020.02.04.20020479  "
      ]
     },
     "execution_count": 13,
     "metadata": {},
     "output_type": "execute_result"
    }
   ],
   "source": [
    "df_covid_preprocessed_a_t.head()"
   ]
  },
  {
   "cell_type": "markdown",
   "metadata": {
    "heading_collapsed": true
   },
   "source": [
    "### Using a Spacy Pipeline :\n",
    "https://towardsdatascience.com/setting-up-text-preprocessing-pipeline-using-scikit-learn-and-spacy-e09b9b76758f"
   ]
  },
  {
   "cell_type": "code",
   "execution_count": 39,
   "metadata": {
    "hidden": true
   },
   "outputs": [
    {
     "data": {
      "text/plain": [
       "['Adrien', 'go', 'champion']"
      ]
     },
     "execution_count": 39,
     "metadata": {},
     "output_type": "execute_result"
    }
   ],
   "source": [
    "import re\n",
    "def preprocessor(text):\n",
    "    if type(text) == string:\n",
    "        text = re.sub('<[^>]*>', '', text)\n",
    "        text = re.sub('[\\W]+', '', text.lower())\n",
    "    return text\n",
    "\n",
    "from spacy.lang.en import English\n",
    "nlp = English()\n",
    "tokenizer = nlp.Defaults.create_tokenizer(nlp)\n",
    "tokens = tokenizer(sample_text)\n",
    "lemma_list = []\n",
    "for token in tokens:\n",
    "    if token.is_stop is False:\n",
    "        token_preprocessed = preprocessor(token.lemma_)\n",
    "        if token_preprocessed != '':\n",
    "             lemma_list.append(token_preprocessed)\n",
    "lemma_list"
   ]
  },
  {
   "cell_type": "code",
   "execution_count": 40,
   "metadata": {
    "hidden": true
   },
   "outputs": [],
   "source": [
    "def preprocessor_final(text):\n",
    "    if isinstance((text), (str)):\n",
    "        text = re.sub('<[^>]*>', '', text)\n",
    "        text = re.sub('[\\W]+', '', text.lower())\n",
    "        return text\n",
    "    if isinstance((text), (list)):\n",
    "        return_list = []\n",
    "        for i in range(len(text)):\n",
    "            temp_text = re.sub('<[^>]*>', '', text[i])\n",
    "            temp_text = re.sub('[\\W]+', '', temp_text.lower())\n",
    "            return_list.append(temp_text)\n",
    "        return(return_list)\n",
    "    else:\n",
    "        pass"
   ]
  },
  {
   "cell_type": "code",
   "execution_count": 41,
   "metadata": {
    "hidden": true
   },
   "outputs": [],
   "source": [
    "from sklearn.preprocessing import FunctionTransformer\n",
    "def pipelinize(function, active=True):\n",
    "    def list_comprehend_a_function(list_or_series, active=True):\n",
    "        if active:\n",
    "            return [function(i) for i in list_or_series]\n",
    "        else: # if it's not active, just pass it right back\n",
    "            return list_or_series\n",
    "    return FunctionTransformer(list_comprehend_a_function, validate=False, kw_args={'active':active})"
   ]
  },
  {
   "cell_type": "code",
   "execution_count": 42,
   "metadata": {
    "hidden": true
   },
   "outputs": [],
   "source": [
    "from spacy.lang.en import English\n",
    "def spacy_tokenizer_lemmatizer(text):\n",
    "    \n",
    "    nlp = English()\n",
    "    tokenizer = nlp.Defaults.create_tokenizer(nlp)\n",
    "    tokens = tokenizer(text)\n",
    "    \n",
    "    lemma_list = []\n",
    "    for token in tokens:\n",
    "        if token.is_stop is False:\n",
    "            lemma_list.append(token.lemma_)\n",
    "    \n",
    "    return(lemma_list)"
   ]
  },
  {
   "cell_type": "code",
   "execution_count": 52,
   "metadata": {
    "hidden": true
   },
   "outputs": [
    {
     "name": "stdout",
     "output_type": "stream",
     "text": [
      "Wall time: 1.03 s\n"
     ]
    },
    {
     "data": {
      "text/plain": [
       "[['adrien', 'go', 'champion']]"
      ]
     },
     "execution_count": 52,
     "metadata": {},
     "output_type": "execute_result"
    }
   ],
   "source": [
    "from sklearn.pipeline import Pipeline\n",
    "spacy_estimators = [('tokenizer', pipelinize(spacy_tokenizer_lemmatizer)), ('preprocessor', pipelinize(preprocessor_final))]\n",
    "spacy_pipe = Pipeline(spacy_estimators)\n",
    "%time spacy_pipe.transform([sample_text])"
   ]
  },
  {
   "cell_type": "code",
   "execution_count": null,
   "metadata": {
    "hidden": true
   },
   "outputs": [],
   "source": []
  },
  {
   "cell_type": "code",
   "execution_count": null,
   "metadata": {
    "hidden": true
   },
   "outputs": [],
   "source": []
  },
  {
   "cell_type": "code",
   "execution_count": null,
   "metadata": {
    "hidden": true
   },
   "outputs": [],
   "source": []
  },
  {
   "cell_type": "markdown",
   "metadata": {},
   "source": [
    "## Representation  of DATA : "
   ]
  },
  {
   "cell_type": "markdown",
   "metadata": {},
   "source": [
    "### Tf-IDF "
   ]
  },
  {
   "cell_type": "markdown",
   "metadata": {},
   "source": [
    "Replacing nans by \" \" : "
   ]
  },
  {
   "cell_type": "code",
   "execution_count": 14,
   "metadata": {},
   "outputs": [
    {
     "ename": "NameError",
     "evalue": "name 'df_covid_preprocessed_a_t' is not defined",
     "output_type": "error",
     "traceback": [
      "\u001b[1;31m---------------------------------------------------------------------------\u001b[0m",
      "\u001b[1;31mNameError\u001b[0m                                 Traceback (most recent call last)",
      "\u001b[1;32m<ipython-input-14-2e3fcbd352d9>\u001b[0m in \u001b[0;36m<module>\u001b[1;34m\u001b[0m\n\u001b[1;32m----> 1\u001b[1;33m \u001b[0mdf_covid_preprocessed_a_t\u001b[0m\u001b[1;33m.\u001b[0m\u001b[0mabstract\u001b[0m \u001b[1;33m=\u001b[0m \u001b[0mdf_covid_preprocessed_a_t\u001b[0m\u001b[1;33m.\u001b[0m\u001b[0mabstract\u001b[0m\u001b[1;33m.\u001b[0m\u001b[0mfillna\u001b[0m\u001b[1;33m(\u001b[0m\u001b[1;34m' '\u001b[0m\u001b[1;33m)\u001b[0m\u001b[1;33m\u001b[0m\u001b[1;33m\u001b[0m\u001b[0m\n\u001b[0m",
      "\u001b[1;31mNameError\u001b[0m: name 'df_covid_preprocessed_a_t' is not defined"
     ]
    }
   ],
   "source": [
    "df_covid_preprocessed_a_t.abstract = df_covid_preprocessed_a_t.abstract.fillna(' ')"
   ]
  },
  {
   "cell_type": "markdown",
   "metadata": {},
   "source": [
    "This is convinient for the moment since we currently only use the abstrac.\n",
    "\n",
    "\n",
    "We are going to see what we will do when we will be using the entire text. "
   ]
  },
  {
   "cell_type": "code",
   "execution_count": 20,
   "metadata": {},
   "outputs": [],
   "source": [
    "# Initializing TFIDF :\n",
    "tfidf = TfidfVectorizer(sublinear_tf=True, min_df=5, norm='l2', encoding='latin-1', ngram_range=(1,1))\n",
    "#Defining the features needed :\n",
    "features = tfidf.fit_transform(df_covid_preprocessed_a_t.abstract).toarray()"
   ]
  },
  {
   "cell_type": "markdown",
   "metadata": {},
   "source": [
    "To find cosine similarity measure between documents, we use this : https://markhneedham.com/blog/2016/07/27/scitkit-learn-tfidf-and-cosine-similarity-for-computer-science-papers/"
   ]
  },
  {
   "cell_type": "markdown",
   "metadata": {},
   "source": [
    "#### Function to find similar documents from its index: "
   ]
  },
  {
   "cell_type": "code",
   "execution_count": 55,
   "metadata": {},
   "outputs": [],
   "source": [
    "def find_similar_from_index(tfidf_matrix, index, top_n = 5):\n",
    "    \"\"\"\n",
    "    Function find_similar to find the similar documents of one given document, given its index in the corpus. \n",
    "    \n",
    "    @Inputs : \n",
    "    tfidf_matrix : matrix returned by the tfidf transformation of the entire corpus\n",
    "    index : the index of the document\n",
    "    top_n : the number of articles similar to be shown\n",
    "    \n",
    "    @Outputs : \n",
    "    \n",
    "    \"\"\"\n",
    "    cosine_similarities = linear_kernel(tfidf_matrix[index:index+1], tfidf_matrix).flatten()\n",
    "    related_docs_indices = [i for i in cosine_similarities.argsort()[::-1] if i != index]\n",
    "    return [(index, cosine_similarities[index]) for index in related_docs_indices][0:top_n]"
   ]
  },
  {
   "cell_type": "markdown",
   "metadata": {},
   "source": [
    "##### Function to print the results:"
   ]
  },
  {
   "cell_type": "code",
   "execution_count": 56,
   "metadata": {
    "scrolled": true
   },
   "outputs": [
    {
     "name": "stdout",
     "output_type": "stream",
     "text": [
      "0.3093887347162073 paper_id                                9b65172474596d39536d018185c4e92a52909622\n",
      "body_text                      In total, fifty samples from poultry comprisin...\n",
      "source_x                                                                Elsevier\n",
      "title                          new real time conventional rt pcrs updated mol...\n",
      "doi                                               10.1016/j.jviromet.2017.02.018\n",
      "pmcid                                                                        NaN\n",
      "pubmed_id                                                            2.83364e+07\n",
      "license                                                                els-covid\n",
      "abstract                       abstract egypt currently geographically restri...\n",
      "publish_time                                                          2017-07-31\n",
      "authors                        Naguib, Mahmoud M.; El-Kady, Magdy F.; Lüschow...\n",
      "journal                                           Journal of Virological Methods\n",
      "Microsoft Academic Paper ID                                                  NaN\n",
      "WHO #Covidence                                                               NaN\n",
      "has_full_text                                                               True\n",
      "full_text_file                                                    custom_license\n",
      "publish_year                                                                2017\n",
      "link                            http://dx.doi.org/10.1016/j.jviromet.2017.02.018\n",
      "Name: 20338, dtype: object\n",
      "0.2920624005463818 paper_id                                db5d4d312d002e6bdc87f433d1ad118681167016\n",
      "body_text                      Infectious bronchitis (IB), also called avian ...\n",
      "source_x                                                                     PMC\n",
      "title                          detection infectious bronchitis virus serotype...\n",
      "doi                                                       10.1186/2193-1801-2-36\n",
      "pmcid                                                                 PMC3579474\n",
      "pubmed_id                                                              2.345e+07\n",
      "license                                                                    cc-by\n",
      "abstract                       infectious bronchitis ib highly contagious dis...\n",
      "publish_time                                                         2013 Jan 31\n",
      "authors                        Jahantigh, Mohammad; Salari, Saeed; Hedayati, ...\n",
      "journal                                                             Springerplus\n",
      "Microsoft Academic Paper ID                                                  NaN\n",
      "WHO #Covidence                                                               NaN\n",
      "has_full_text                                                               True\n",
      "full_text_file                                                   comm_use_subset\n",
      "publish_year                                                                2013\n",
      "link                                    http://dx.doi.org/10.1186/2193-1801-2-36\n",
      "Name: 8738, dtype: object\n",
      "0.2828463665916926 paper_id                                72d032a52bbe9a9028275d30caebd3f9ad62548d\n",
      "body_text                      Avian infectious bronchitis, caused by infecti...\n",
      "source_x                                                                Elsevier\n",
      "title                          novel genotype infectious bronchitis virus iso...\n",
      "doi                                                 10.1016/j.vetmic.2019.01.020\n",
      "pmcid                                                                        NaN\n",
      "pubmed_id                                                            3.08274e+07\n",
      "license                                                                els-covid\n",
      "abstract                       abstract recombination event know contribute e...\n",
      "publish_time                                                          2019-03-31\n",
      "authors                        Ma, Tianxin; Xu, Liwen; Ren, Mengting; Shen, J...\n",
      "journal                                                  Veterinary Microbiology\n",
      "Microsoft Academic Paper ID                                                  NaN\n",
      "WHO #Covidence                                                               NaN\n",
      "has_full_text                                                               True\n",
      "full_text_file                                                    custom_license\n",
      "publish_year                                                                2019\n",
      "link                              http://dx.doi.org/10.1016/j.vetmic.2019.01.020\n",
      "Name: 17597, dtype: object\n",
      "0.28207758649669057 paper_id                                aa8c1dae28ba8fb4664d2ec9e8632cd1673da721\n",
      "body_text                      The emergence of new infectious bronchitis vir...\n",
      "source_x                                                                Elsevier\n",
      "title                          evidence emergence novel putative infectious b...\n",
      "doi                                                   10.1016/j.rvsc.2012.01.012\n",
      "pmcid                                                                        NaN\n",
      "pubmed_id                                                            2.23574e+07\n",
      "license                                                                els-covid\n",
      "abstract                       abstract emergence new infectious bronchitis v...\n",
      "publish_time                                                          2012-10-31\n",
      "authors                        Acevedo, Ana M.; Díaz de Arce, Heidy; Brandão,...\n",
      "journal                                           Research in Veterinary Science\n",
      "Microsoft Academic Paper ID                                                  NaN\n",
      "WHO #Covidence                                                               NaN\n",
      "has_full_text                                                               True\n",
      "full_text_file                                                    custom_license\n",
      "publish_year                                                                2012\n",
      "link                                http://dx.doi.org/10.1016/j.rvsc.2012.01.012\n",
      "Name: 21342, dtype: object\n",
      "0.2692693441745082 paper_id                                e51f76652308c07245e05761a0267fd6b8374367\n",
      "body_text                      Avian infectious bronchitis (IB) is a highly c...\n",
      "source_x                                                                Elsevier\n",
      "title                          chapter 33 avian coronavirus case infectious b...\n",
      "doi                                           10.1016/B978-0-12-819400-3.00033-8\n",
      "pmcid                                                                        NaN\n",
      "pubmed_id                                                                    NaN\n",
      "license                                                                els-covid\n",
      "abstract                       abstract infectious bronchitis ib virus ibv dy...\n",
      "publish_time                                                          2020-12-31\n",
      "authors                        Khataby, Khadija; Kasmi, Yassine; Souiri, Amal...\n",
      "journal                                  Emerging and Reemerging Viral Pathogens\n",
      "Microsoft Academic Paper ID                                                  NaN\n",
      "WHO #Covidence                                                               NaN\n",
      "has_full_text                                                               True\n",
      "full_text_file                                                    custom_license\n",
      "publish_year                                                                2020\n",
      "link                           http://dx.doi.org/10.1016/B978-0-12-819400-3.0...\n",
      "Name: 25153, dtype: object\n"
     ]
    }
   ],
   "source": [
    "def print_results_from_index(df_articles, tfidf_matrix, index, top_n=5):\n",
    "    \"\"\"\n",
    "    Function print_result to print the results\n",
    "    \"\"\"\n",
    "    for index, score in find_similar_from_index(tfidf_matrix, index, top_n):\n",
    "        print(score, df_articles.iloc[index])\n",
    "    return None\n",
    "print_result(features, 2)"
   ]
  },
  {
   "cell_type": "markdown",
   "metadata": {},
   "source": [
    "#### Function to find documents similar to a given query, and making the transformation :"
   ]
  },
  {
   "cell_type": "code",
   "execution_count": 63,
   "metadata": {},
   "outputs": [],
   "source": [
    "def find_documents_from_query(tfidf_matrix, tfidf_query, top_n=5):\n",
    "    \"\"\"\n",
    "    Function find_documents_from_query, which computes the top_n most relevent articles given the tfidf representation\n",
    "    of the query\n",
    "    \n",
    "    @Inputs:\n",
    "    - tfidf_matrix, the tfidf matrix representation of the entire set of articles\n",
    "    - tfidf_query, the tfidf vector representation of the query\n",
    "    - top_n = 5, the number of documents to find\n",
    "    @Outputs: \n",
    "    indexes_scores, the index of each top_n article in the DataFrame, and the associated cosine_similarity score\n",
    "    \"\"\"\n",
    "    #We calculate the cosine similarity between the query and each document:\n",
    "    cosine_similarities = linear_kernel(tfidf_query, tfidf_matrix).flatten()\n",
    "    #We sort the documents from the similarit to the query :\n",
    "    related_docs_indices = [i for i in cosine_similarities.argsort()[::-1] if i != index]\n",
    "    #We retrieve the top n documents most similar to the given query :\n",
    "    indexes_scores = [(index, cosine_similarities[index]) for index in related_docs_indices][0:top_n]\n",
    "    return indexes_scores"
   ]
  },
  {
   "cell_type": "code",
   "execution_count": 253,
   "metadata": {},
   "outputs": [
    {
     "name": "stdout",
     "output_type": "stream",
     "text": [
      "0.3821871175131002 abstract wide variety rna viruses disease associate -PRON- result capacity rna genome evolve genetic recombination -PRON- address mechanism rna recombination ask question -PRON- prevalence purpose nature\n",
      "0.3276743075606461 diversity rna virus vertebrate remain largely unexplore discovery 214 novel vertebrate associated rna viruses likely help -PRON- understand diversity evolution rna virus vertebrate\n",
      "0.3182375874094305 review intend present recapitulate current knowledge role importance regulatory rna microrna small interfering rna rna bind protein enzyme process rna activate rna cell infect rna viruses review focus non code rna involve rna virus replication pathogenesis host response especially retrovirus hiv example mechanism action transcriptional regulation promotion increase stability -PRON- target -PRON- degradation\n",
      "0.3057566050621453 rna viruses capable rapid spread severe potentially lethal disease animal human development reverse genetic system manipulation study rna virus genome provide platform design optimize viral mutant vaccine development -PRON- review impact rna virus reverse genetic system past current effort design effective safe viral therapeutic vaccine\n",
      "0.29498841052856234 abstract protein phosphorylation reversible post translational modification play fundamental role regulation cellular process phosphorylation modulate protein property enzymatic activity stability subcellular localization interaction bind partner importance phosphorylation replication protein negative strand rna viruses previously document recent evidence suggest replication positive strand rna viruse large class virus include significant human animal plant pathogen regulate phosphorylation event objective review summarize current knowledge regard regulatory role play phosphorylation nonstructural viral protein replication positive strand rna viruses\n"
     ]
    }
   ],
   "source": [
    "for index, score in find_documents(features, 'rna viruses', tfidf):\n",
    "    print(score, df_covid_preprocessed_a_t.iloc[index].abstract)"
   ]
  },
  {
   "cell_type": "code",
   "execution_count": 55,
   "metadata": {},
   "outputs": [
    {
     "name": "stdout",
     "output_type": "stream",
     "text": [
      "['Abstract The wide variety of RNA viruses, and the diseases associated with them, may result in part from the capacity of RNA genomes to evolve through genetic recombination. Here we address the mechanism of RNA recombination, and ask questions about its prevalence and purpose in nature.']\n"
     ]
    }
   ],
   "source": [
    "print(df_covid[df_covid.paper_id=='c61d8295b9a2c37b9785bcd4ea99550f8ba1e688'].abstract.values)"
   ]
  },
  {
   "cell_type": "code",
   "execution_count": 56,
   "metadata": {},
   "outputs": [
    {
     "data": {
      "text/plain": [
       "array(['abstract wide variety rna viruses disease associate -PRON- result capacity rna genome evolve genetic recombination -PRON- address mechanism rna recombination ask question -PRON- prevalence purpose nature'],\n",
       "      dtype=object)"
      ]
     },
     "execution_count": 56,
     "metadata": {},
     "output_type": "execute_result"
    }
   ],
   "source": [
    "df_covid[df_covid.paper_id=='c61d8295b9a2c37b9785bcd4ea99550f8ba1e688'].abstract.apply(clean_text_lemma).values"
   ]
  },
  {
   "cell_type": "code",
   "execution_count": 57,
   "metadata": {},
   "outputs": [
    {
     "data": {
      "text/plain": [
       "array(['abstract wide variety rna virus disease associate result capacity rna genome evolve genetic recombination address mechanism rna recombination ask question prevalence purpose nature'],\n",
       "      dtype=object)"
      ]
     },
     "execution_count": 57,
     "metadata": {},
     "output_type": "execute_result"
    }
   ],
   "source": [
    "df_covid[df_covid.paper_id=='c61d8295b9a2c37b9785bcd4ea99550f8ba1e688'].abstract.apply(preprocessing_part).values"
   ]
  },
  {
   "cell_type": "markdown",
   "metadata": {},
   "source": [
    "#### Other pipeline :\n",
    "We use this: https://www.kaggle.com/balatmak/text-preprocessing-steps-and-universal-pipeline\n",
    "\n",
    "AND (same thing) : \n",
    "\n",
    "https://towardsdatascience.com/text-preprocessing-steps-and-universal-pipeline-94233cb6725a"
   ]
  },
  {
   "cell_type": "markdown",
   "metadata": {},
   "source": [
    "On adpate le pipeline ci-dessus pour faire du fonctionnel:"
   ]
  },
  {
   "cell_type": "code",
   "execution_count": 54,
   "metadata": {},
   "outputs": [
    {
     "name": "stderr",
     "output_type": "stream",
     "text": [
      "C:\\Users\\adrie\\Anaconda3\\lib\\site-packages\\sklearn\\base.py:306: UserWarning: Trying to unpickle estimator LabelPropagation from version 0.18 when using version 0.21.3. This might lead to breaking code or invalid results. Use at your own risk.\n",
      "  UserWarning)\n"
     ]
    }
   ],
   "source": [
    "global spacy_nlp\n",
    "spacy_nlp = spacy.load('en_core_web_sm')\n",
    "def normalize(text):\n",
    "    # some issues in normalise package\n",
    "    try:\n",
    "        return ' '.join(normalise(text,tokenizer=word_tokenize,verbose=True))\n",
    "    except:\n",
    "        return text\n",
    "def remove_punct(doc):\n",
    "    return [t for t in doc if t.text not in string.punctuation]\n",
    "def remove_stop_words(doc):\n",
    "    return [t for t in doc if not t.is_stop]\n",
    "def lemmatize(doc):\n",
    "    return ' '.join([t.lemma_ for t in doc])\n",
    "    \n",
    "def preprocessing_part(text):\n",
    "    normalized_text=normalize(text).lower()\n",
    "    doc=spacy_nlp(normalized_text)\n",
    "    removed_punct=remove_punct(doc)\n",
    "    removed_stop_words=remove_stop_words(removed_punct)\n",
    "    return lemmatize(removed_stop_words)"
   ]
  },
  {
   "cell_type": "markdown",
   "metadata": {},
   "source": [
    "#### Function to export the sentences most relevent from each article : "
   ]
  },
  {
   "cell_type": "markdown",
   "metadata": {},
   "source": [
    "For this purpose, we need to : \n",
    "- index each sentences of the given articles\n",
    "- perform TF-IDF on the set of sentences\n",
    "- Compare the query with each sentence using cosine similarity \n",
    "\n",
    "For the last task, we can easily use the function `find_similar`, just like before. \n",
    "\n",
    "If we perform reduction on the documents to plot each documents with the distance to the other, we could also to the same with the sentences.\n",
    "\n",
    "- Then, we show the relevent sentences, given a criteria : \n",
    "    - We can use a threshold on the similarity score\n",
    "    - We can also use a number of sentences to show, but this could end up showing sentences completely out of context \n",
    "    - Therefore, I think we can use both.\n",
    "    \n",
    "**Warning** : \n",
    "\n",
    "We must index the sentences before making any transformation to the text !!! \n",
    "\n",
    "To avoid empty sentences (with the lemmatisation)  We can show either a number of characters or sentences before and after the one chosen. \n",
    "\n",
    "We can also verify that two sentences are not one after the other. \n"
   ]
  },
  {
   "cell_type": "markdown",
   "metadata": {},
   "source": [
    "##### Function to index the sentences of an article: "
   ]
  },
  {
   "cell_type": "code",
   "execution_count": null,
   "metadata": {},
   "outputs": [],
   "source": [
    "def sentence_indexing(article):\n",
    "    \"\"\"\n",
    "    Function sentence_indexing made to index the sentences of an article\n",
    "    \n",
    "    @Inputs: \n",
    "    article, the text of the article\n",
    "    \n",
    "    @Outputs:\n",
    "    df_sentences, a pandas DataFrame, with a single column 'sentences', corresponding to each sentences of the article\n",
    "                    Obviously, the indexing is then performed directly in the pandas DataFrame.\n",
    "    \"\"\"\n",
    "    #We split the article for each '.' encountered, this gives every sentences of the text, which we then store in the\n",
    "    #Pandas DataFrame 'df_sentences'.\n",
    "    #We also verify that the sentences are not empty (because of a typo or because of the lemmatization)\n",
    "    df_sentences=pd.DataFrame({'sentences': [sentence for sentence in article.split('.') if sentence !=''])\n",
    "    return df_sentences"
   ]
  },
  {
   "cell_type": "markdown",
   "metadata": {},
   "source": [
    "##### Function to find the sentences most relevant for each article found : "
   ]
  },
  {
   "cell_type": "code",
   "execution_count": null,
   "metadata": {},
   "outputs": [],
   "source": [
    "def index_relevant_sentences(tfidf, df_article, transformed_query):\n",
    "    \"\"\"\n",
    "    Function relevant_sentences, which computes for a given query the most relevant sentences inside an article.\n",
    "    \n",
    "    @Inputs: \n",
    "    tfidf, the tfidf model\n",
    "    df_article, the article\n",
    "    query, the given query\n",
    "    \n",
    "    @Outputs : \n",
    "    index_score, the index and the score of the most relevant sentences (sorted)\n",
    "    \"\"\"\n",
    "    #We take the sentences of the article:\n",
    "    df_sentences = sentence_indexing(df_article)\n",
    "    #We transform the sentences with tfidf:\n",
    "    article_sentences_tfidf = tfidf.transform(df_sentences)\n",
    "    #We find the most relevant articles given the query, using find_document:\n",
    "    index_scores = find_documents_from_query(tfidf_matrix, tfidf_query, top_n=5)\n",
    "    return index_score"
   ]
  },
  {
   "cell_type": "markdown",
   "metadata": {},
   "source": [
    "##### Function to transform the query : "
   ]
  },
  {
   "cell_type": "code",
   "execution_count": null,
   "metadata": {},
   "outputs": [],
   "source": [
    "def transform_query(tfidf, query):\n",
    "    \"\"\"\n",
    "    Function transform_query, which takes the tfidf model and a query, to preprocess it and transform it in a usable form\n",
    "    @Inputs: \n",
    "    tfidf, the tfidf model, fit on the entire corpus\n",
    "    query, the given str query \n",
    "    \n",
    "    @Outputs: \n",
    "    tfidf_query, the transformed query, after cleaning, preprocessing, lemmatization and tfidf transformation    \n",
    "    \"\"\"\n",
    "    preprocessed_query = preprocessing_part(query)\n",
    "    tfidf_query = tfidf.transform(preprocessed_query)\n",
    "    return tfidf_query"
   ]
  },
  {
   "cell_type": "markdown",
   "metadata": {},
   "source": [
    "##### Function to transform the entire text:"
   ]
  },
  {
   "cell_type": "code",
   "execution_count": null,
   "metadata": {},
   "outputs": [],
   "source": [
    "def transform_text(df_articles):\n",
    "    \"\"\"\n",
    "    Function transform_textn fitting the tfidf transformation and applying it to transform the articles\n",
    "    @Inputs: \n",
    "    df_articles\n",
    "    @Outputs: \n",
    "    tfidf, the tfidf model\n",
    "    tfidf_matrix, the tfidf matrix of the set of articles\n",
    "    \"\"\"\n",
    "    # Initializing TFIDF :\n",
    "    tfidf = TfidfVectorizer(sublinear_tf=True, min_df=5, norm='l2', encoding='latin-1', ngram_range=(1,1))\n",
    "    #Defining the features needed :\n",
    "    tfidf_matrix = tfidf.fit_transform(df_articles.abstract).toarray()\n",
    "    return tfidf, tfidf_matrix"
   ]
  },
  {
   "cell_type": "markdown",
   "metadata": {},
   "source": [
    "##### Final function, taking a query, transforming it, returning the most relevant articles and the most relevent sentences inside those articles"
   ]
  },
  {
   "cell_type": "code",
   "execution_count": 1,
   "metadata": {},
   "outputs": [],
   "source": [
    "def find_answers(df_covid, df_preprocessed_covid, query, column='body_text',top_n_sentences=5, top_n_articles=5):\n",
    "    \"\"\"\n",
    "    Function find_answers to find the most relevent sentences inside the most relevant articles \n",
    "    @Inputs:\n",
    "    - df_covid, the DataFrame associated with the plain untransformed articles\n",
    "    - df_preprocessed_covid, the DataFrame with the articles preprocessed (would be very long to perform this on each\n",
    "    call of this function)\n",
    "    - query, str, the plain query, to be transformed\n",
    "    - column, \n",
    "    - top_n_sentences : the number of sentences to select\n",
    "    - top_n_articles : the number of articles to select\n",
    "    @Outputs:\n",
    "    - index_score_articles_sentences, a DataFrame, containing the indexes of the articles and the sentences of the\n",
    "    articles, and the associated scores by cosine similarity\n",
    "    \"\"\"\n",
    "    #Firstly, we compute empty lists to store indexes and scores:\n",
    "    L_index_articles, L_index_sentences, L_scores_articles, L_scores_sentences= [],[],[],[]\n",
    "    #We transform by tfidf the preprocessed dataset, selecting the needed column\n",
    "    tfidf, tfidf_matrix = transform_text(df_preprocessed_covid.column)\n",
    "    #We transform the query : \n",
    "    tfidf_query=transform_query(tfidf, query)\n",
    "    #We want to find the most relevant articles for this query : \n",
    "    #We compute the indexes of the relevant articles and their associated cosine similarity score\n",
    "    indexes_scores_articles = find_documents_from_query(tfidf_matrix, tfidf_query, top_n=5)\n",
    "    #Since we have the indexes, we can have the articles, and find the sentences most relevent inside each article: \n",
    "    for index_article, score_article in indexes_scores_articles:\n",
    "        #Here, since we need to index the sentences of the articles, we take the df_covid, not preprocessed, DataFrame\n",
    "        index_score_sentences=index_relevant_sentences(tfidf,df_covid.iloc[index_article].column, tfidf_query)\n",
    "        for index_sentence, score_sentence in index_score_sentences:\n",
    "            #We store the wanted data in the associated lists:\n",
    "            L_index_articles.expend(index_article)\n",
    "            L_index_sentences.expend(index_sentece)\n",
    "            L_scores_articles.expend(score_article)\n",
    "            L_scores_sentences.expend(score_sentence)\n",
    "    #Finally, we compute the DataFrame we want to return \n",
    "    d={'index_acrticle' : L_index_articles , 'score_article': L_scores_articles, 'index_sentence':  L_index_sentences,\n",
    "       'score_sentence':L_scores_sentences } \n",
    "    index_score_articles_sentences=pd.DataFrame(data=d)\n",
    "    return index_score_articles_sentences"
   ]
  },
  {
   "cell_type": "markdown",
   "metadata": {},
   "source": [
    "#### Function to export the results in a good and simple way:"
   ]
  },
  {
   "cell_type": "markdown",
   "metadata": {},
   "source": [
    "What we want here is : \n",
    "- the link to article\n",
    "- the title\n",
    "- the authors\n",
    "- the source\n",
    "- the sentences relevant \n",
    "- the similarity scores with the query from cosine similarity \n",
    "- the 2/3 most relevant sentences in the entire set. "
   ]
  },
  {
   "cell_type": "code",
   "execution_count": null,
   "metadata": {},
   "outputs": [],
   "source": [
    "def answers():\n",
    "    \"\"\"\n",
    "    Function answers, giving the answers to a certain query\n",
    "    \n",
    "    @Inputs: \n",
    "    \n",
    "    @Outputs: \n",
    "    \n",
    "    \"\"\"\n",
    "    #We compute the DataFrame with the sentences and articles relevant: \n",
    "    index_score_articles_sentences= find_answers(df_covid, df_preprocessed_covid, query, \n",
    "                                                 column='body_text',top_n_sentences=5, top_n_articles=5)\n",
    "    #Sorting the sentences by their associated score: \n",
    "    \n",
    "    #We export the two best sentences: \n",
    "    print('Sentences with the best scores : ', )\n",
    "    \n",
    "    #We export the articles: \n",
    "    print('Articles with the best scores and the associated sentences : ', )\n",
    "    for i in \n",
    "    \n",
    "    "
   ]
  },
  {
   "cell_type": "markdown",
   "metadata": {},
   "source": [
    "### Word-Embeddings techniques"
   ]
  },
  {
   "cell_type": "code",
   "execution_count": null,
   "metadata": {},
   "outputs": [],
   "source": []
  },
  {
   "cell_type": "markdown",
   "metadata": {},
   "source": [
    "## Dimensionnality reduction with PCA : "
   ]
  },
  {
   "cell_type": "markdown",
   "metadata": {},
   "source": [
    "https://towardsdatascience.com/pca-using-python-scikit-learn-e653f8989e60"
   ]
  },
  {
   "cell_type": "code",
   "execution_count": null,
   "metadata": {},
   "outputs": [],
   "source": [
    "PrincipalCA = Pipeline([('vect', CountVectorizer()),\n",
    "                ('tfidf', TfidfTransformer()),\n",
    "                ('clf', TruncatedSVD(n_components=2)),])\n",
    "\n",
    "\n",
    "principalComponents=PrincipalCA.fit_transform(X)\n",
    "principalDf = pd.DataFrame(data = principalComponents, columns = ['principal component 1', 'principal component 2'])\n",
    "\n",
    "finalDf = pd.concat([principalDf, y], axis = 1)\n",
    "fig=plt.figure(figsize=(10,10))\n",
    "sns.scatterplot(x=finalDf['principal component 1'], y=finalDf['principal component 2'], hue=finalDf.party, palette=\"muted\")\n",
    "plt.show()"
   ]
  },
  {
   "cell_type": "markdown",
   "metadata": {},
   "source": [
    "## With t-SNE ? "
   ]
  },
  {
   "cell_type": "markdown",
   "metadata": {},
   "source": [
    "https://towardsdatascience.com/visualising-high-dimensional-datasets-using-pca-and-t-sne-in-python-8ef87e7915b"
   ]
  },
  {
   "cell_type": "markdown",
   "metadata": {},
   "source": [
    "## Clustering : "
   ]
  },
  {
   "cell_type": "markdown",
   "metadata": {},
   "source": [
    "### K-means : "
   ]
  },
  {
   "cell_type": "code",
   "execution_count": null,
   "metadata": {},
   "outputs": [],
   "source": [
    "number_clusters = 10\n",
    "kmeans = KMeans(n_clusters=number_clusters)\n",
    "labels = kmeans.fit_predict(tfidf_matrix)"
   ]
  },
  {
   "cell_type": "markdown",
   "metadata": {},
   "source": [
    "### Taking the most correlated unigrams:"
   ]
  },
  {
   "cell_type": "markdown",
   "metadata": {},
   "source": [
    "We can help ourselves with that article :\n",
    "\n",
    "https://towardsdatascience.com/multi-class-text-classification-with-scikit-learn-12f1e60e0a9f\n",
    "\n",
    "And this scikit-learn documentation : \n",
    "\n",
    "http://scikit-learn.org/stable/modules/generated/sklearn.feature_selection.chi2.html"
   ]
  },
  {
   "cell_type": "code",
   "execution_count": null,
   "metadata": {},
   "outputs": [],
   "source": [
    "def correlations_uni_bi_grams(features, labels, tfidf, N=2):\n",
    "    \"\"\"\n",
    "    function to get the most correlated n-grams associated with each cluster\n",
    "    @Inputs:\n",
    "        - features\n",
    "        - labels\n",
    "        - tfidf\n",
    "        - N, le nombre de N-grammes à afficher\n",
    "    @Output:\n",
    "        None\n",
    "    \"\"\"\n",
    "    parties=labels.unique()\n",
    "    # N: nombre d'unigrams et de bigrams à afficher :\n",
    "    for party in parties:\n",
    "        features_chi2 = chi2(features, labels == party)\n",
    "        indices = np.argsort(features_chi2[0])\n",
    "        feature_names = np.array(tfidf.get_feature_names())[indices]\n",
    "        unigrams = [v for v in feature_names if len(v.split(' ')) == 1]\n",
    "        bigrams = [v for v in feature_names if len(v.split(' ')) == 2]\n",
    "        print(\"For the party : '{}':\".format(party))\n",
    "        print(\"  . Most correlated unigrams:\\n. {}\".format('\\n. '.join(unigrams[-N:])))\n",
    "        print(\"  . Most correlated bigrams:\\n. {}\".format('\\n. '.join(bigrams[-N:])))\n",
    "    return None"
   ]
  },
  {
   "cell_type": "markdown",
   "metadata": {},
   "source": [
    "## Associating the classes with their most correlated grams and plotting the reduction :"
   ]
  },
  {
   "cell_type": "code",
   "execution_count": null,
   "metadata": {},
   "outputs": [],
   "source": []
  },
  {
   "cell_type": "code",
   "execution_count": null,
   "metadata": {},
   "outputs": [],
   "source": []
  },
  {
   "cell_type": "code",
   "execution_count": null,
   "metadata": {},
   "outputs": [],
   "source": []
  }
 ],
 "metadata": {
  "kernelspec": {
   "display_name": "Python 3",
   "language": "python",
   "name": "python3"
  },
  "language_info": {
   "codemirror_mode": {
    "name": "ipython",
    "version": 3
   },
   "file_extension": ".py",
   "mimetype": "text/x-python",
   "name": "python",
   "nbconvert_exporter": "python",
   "pygments_lexer": "ipython3",
   "version": "3.7.4"
  },
  "toc": {
   "base_numbering": 1,
   "nav_menu": {},
   "number_sections": true,
   "sideBar": true,
   "skip_h1_title": true,
   "title_cell": "Table of Contents",
   "title_sidebar": "Contents",
   "toc_cell": false,
   "toc_position": {
    "height": "calc(100% - 180px)",
    "left": "10px",
    "top": "150px",
    "width": "280.8px"
   },
   "toc_section_display": true,
   "toc_window_display": true
  }
 },
 "nbformat": 4,
 "nbformat_minor": 2
}
